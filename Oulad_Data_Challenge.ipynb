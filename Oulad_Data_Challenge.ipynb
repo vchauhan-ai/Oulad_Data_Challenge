{
 "cells": [
  {
   "cell_type": "code",
   "execution_count": 1,
   "metadata": {},
   "outputs": [],
   "source": [
    "# Importing Libraries\n",
    "\n",
    "import os\n",
    "import warnings\n",
    "import pandas as pd\n",
    "import numpy as np\n",
    "import seaborn as sns\n",
    "import matplotlib.pyplot as plt\n",
    "from sklearn import metrics\n",
    "import matplotlib.pyplot as plt\n",
    "from sklearn.decomposition import PCA\n",
    "from imblearn.over_sampling import SMOTE\n",
    "from sklearn.feature_selection import RFE\n",
    "from sklearn.model_selection import KFold\n",
    "from sklearn.metrics import accuracy_score\n",
    "from sklearn.metrics import confusion_matrix\n",
    "from sklearn.preprocessing import LabelEncoder\n",
    "from sklearn.preprocessing import StandardScaler\n",
    "from sklearn import linear_model, ensemble, tree\n",
    "from sklearn.metrics import classification_report\n",
    "from sklearn.linear_model import LogisticRegression\n",
    "from sklearn.model_selection import train_test_split\n",
    "from sklearn.model_selection import RandomizedSearchCV\n",
    "from statsmodels.stats.outliers_influence import variance_inflation_factor\n",
    "from sklearn.ensemble import RandomForestClassifier, GradientBoostingClassifier\n",
    "from sklearn.metrics import r2_score, mean_squared_error, mean_absolute_error\n",
    "from sklearn.model_selection import cross_val_score,GridSearchCV,cross_validate\n",
    "from sklearn.metrics import confusion_matrix, auc,roc_auc_score,roc_curve,recall_score,classification_report\n",
    "warnings.filterwarnings('ignore')\n",
    "pd.set_option('display.max_rows', 100, 'display.max_columns', 400)"
   ]
  },
  {
   "cell_type": "markdown",
   "metadata": {},
   "source": [
    "# IMPORTING DATA"
   ]
  },
  {
   "cell_type": "code",
   "execution_count": 2,
   "metadata": {},
   "outputs": [],
   "source": [
    "# Function to Load the file at specified path\n",
    "# Parameters :- 1. path :- path from where file should be I\n",
    "\n",
    "def Load_File(path) :\n",
    "    if os.path.isfile(path) :\n",
    "        data = pd.read_csv(path)\n",
    "        data = data.replace('?', np.nan)\n",
    "        print(\"\\n\" + \"Number of rows in data are %s\" % len(data))\n",
    "        print(\"Number of columns in data are %s\" % len(data.columns) + \"\\n\")\n",
    "        print(\"Following are the data types of columns:- \")\n",
    "        print(data.dtypes)\n",
    "        print(\"Number of missing values in the data are:- \")\n",
    "        print(data.isnull().sum())\n",
    "        print(\"Data Import is Complete\")\n",
    "        \n",
    "        return data\n",
    "    else:\n",
    "        print(path + \" does not exist. Enter the correct path\")\n",
    "        \n",
    "\n",
    "# Generalized Function to plot the counts\n",
    "# Parameters\n",
    "# 1. rotx  : rotation of ticks on x-axis\n",
    "# 2. roty  : rotation of ticks on y-axis\n",
    "# 3. fontx : font size of ticks on x-axis\n",
    "# 4. fonty : font size of ticks on y-axis\n",
    "# 5. column_name : Name of the column for which we need the count\n",
    "# 6. data_name   : Dataframe Used for plotting\n",
    "# 7. plot_size   : Size of the plot\n",
    "# 8. hue : If second column is needed for getting the count, the hue is True else False\n",
    "# 9. hue_column_name = Second Column for plotting\n",
    "\n",
    "\n",
    "def countplot(rotx, roty, fontx, fonty, column_name, data_name, plot_size = (10, 5), hue = False, hue_column_name=None):\n",
    "    plt.figure(figsize = plot_size)\n",
    "    plt.xticks(rotation=rotx, fontsize=fontx)\n",
    "    plt.yticks(rotation=roty, fontsize=fonty)\n",
    "    sns.set_style(\"whitegrid\")\n",
    "    if not hue:\n",
    "        sns.countplot(column_name, data=data_name, palette='husl',\n",
    "                      order = data_name[column_name].value_counts().index)\n",
    "    else:\n",
    "        sns.countplot(column_name, data=data_name, \n",
    "                      palette='husl', hue = hue_column_name,\n",
    "                      order = data_name[column_name].value_counts().index)\n",
    "    sns.despine()\n",
    "\n",
    "\n",
    "# Function to Encode the Categorical Data Columns\n",
    "# Parameters 1. df :- Dataframe 2. Column_name :- Feature to encode\n",
    "\n",
    "def categorical_encoding(df, column_name_list=[]):\n",
    "    \n",
    "    for column_name in column_name_list:\n",
    "        print(df[column_name].unique())\n",
    "        categorical_columns = pd.get_dummies(df[column_name], prefix = column_name, \n",
    "                                             prefix_sep = '_', drop_first = False)\n",
    "        df = pd.concat([df, categorical_columns], axis = 1)\n",
    "        df = df.drop(column_name, axis = 1)\n",
    "    return df\n",
    "\n",
    "\n",
    "# Function to Label Encode the data\n",
    "# Parameters :- 1. data :- Dataframe 2. columns_list :- List of columns to label encode\n",
    "\n",
    "def labelEncoder(data, columns_list):\n",
    "    for col in columns_list:\n",
    "        encoder = LabelEncoder()\n",
    "        data[col]  = encoder.fit_transform(data[col])\n",
    "    return data\n",
    "\n",
    "\n",
    "# Function to plot stacked plot\n",
    "# Paramteres :- \n",
    "# data :- Dataframe used for plotting\n",
    "# column_one :- Column One to group by\n",
    "# column_two : Column Two to group by\n",
    "# agg_column : Column to count numbers\n",
    "\n",
    "def stacked_plot(data, column_one, column_two, agg_column, plot_size=(10, 5)):\n",
    "    pal     = sns.color_palette(\"colorblind\")\n",
    "    grouped = data.groupby([column_one, column_two])[agg_column].count()\n",
    "    grouped = grouped.groupby(level=0).apply(lambda x:100 * x / float(x.sum()))\n",
    "    grouped = grouped.unstack(column_two).fillna(0)\n",
    "    print(grouped)\n",
    "    unique_list = list(data[column_two].unique())\n",
    "    grouped[unique_list].plot(kind='bar', stacked=True, color=pal, figsize=plot_size)"
   ]
  },
  {
   "cell_type": "code",
   "execution_count": 3,
   "metadata": {},
   "outputs": [
    {
     "name": "stdout",
     "output_type": "stream",
     "text": [
      "\n",
      "Number of rows in data are 206\n",
      "Number of columns in data are 6\n",
      "\n",
      "Following are the data types of columns:- \n",
      "code_module           object\n",
      "code_presentation     object\n",
      "id_assessment          int64\n",
      "assessment_type       object\n",
      "date                  object\n",
      "weight               float64\n",
      "dtype: object\n",
      "Number of missing values in the data are:- \n",
      "code_module           0\n",
      "code_presentation     0\n",
      "id_assessment         0\n",
      "assessment_type       0\n",
      "date                 11\n",
      "weight                0\n",
      "dtype: int64\n",
      "Data Import is Complete\n"
     ]
    }
   ],
   "source": [
    "\"\"\"LOADING ASSESSMENTS DATA\"\"\"\n",
    "\n",
    "# code_module          identification code of the module, to which the assessment belongs\n",
    "# code_presentation    identification code of the presentation, to which the assessment belongs\n",
    "# id_assessment        identification number of the assessment\n",
    "# assessment_type      type of assessment\n",
    "# date                 days information about the final submission date of the assessment calculated as the number of days \n",
    "#                      since the start of the module-presentation. The starting date of the presentation has number 0 (zero)\n",
    "# weight               weight of the assessment in %. Typically, Exams are treated separately and have the weight 100%\n",
    "#                      the sum of all other assessments is 100%\n",
    "\n",
    "oulad_assessment = Load_File('Desktop/OULAD/assessments.csv')"
   ]
  },
  {
   "cell_type": "code",
   "execution_count": 4,
   "metadata": {},
   "outputs": [
    {
     "data": {
      "text/html": [
       "<div>\n",
       "<style scoped>\n",
       "    .dataframe tbody tr th:only-of-type {\n",
       "        vertical-align: middle;\n",
       "    }\n",
       "\n",
       "    .dataframe tbody tr th {\n",
       "        vertical-align: top;\n",
       "    }\n",
       "\n",
       "    .dataframe thead th {\n",
       "        text-align: right;\n",
       "    }\n",
       "</style>\n",
       "<table border=\"1\" class=\"dataframe\">\n",
       "  <thead>\n",
       "    <tr style=\"text-align: right;\">\n",
       "      <th></th>\n",
       "      <th>code_module</th>\n",
       "      <th>code_presentation</th>\n",
       "      <th>id_assessment</th>\n",
       "      <th>assessment_type</th>\n",
       "      <th>date</th>\n",
       "      <th>weight</th>\n",
       "    </tr>\n",
       "  </thead>\n",
       "  <tbody>\n",
       "    <tr>\n",
       "      <th>0</th>\n",
       "      <td>AAA</td>\n",
       "      <td>2013J</td>\n",
       "      <td>1752</td>\n",
       "      <td>TMA</td>\n",
       "      <td>19</td>\n",
       "      <td>10.0</td>\n",
       "    </tr>\n",
       "    <tr>\n",
       "      <th>1</th>\n",
       "      <td>AAA</td>\n",
       "      <td>2013J</td>\n",
       "      <td>1753</td>\n",
       "      <td>TMA</td>\n",
       "      <td>54</td>\n",
       "      <td>20.0</td>\n",
       "    </tr>\n",
       "    <tr>\n",
       "      <th>2</th>\n",
       "      <td>AAA</td>\n",
       "      <td>2013J</td>\n",
       "      <td>1754</td>\n",
       "      <td>TMA</td>\n",
       "      <td>117</td>\n",
       "      <td>20.0</td>\n",
       "    </tr>\n",
       "    <tr>\n",
       "      <th>3</th>\n",
       "      <td>AAA</td>\n",
       "      <td>2013J</td>\n",
       "      <td>1755</td>\n",
       "      <td>TMA</td>\n",
       "      <td>166</td>\n",
       "      <td>20.0</td>\n",
       "    </tr>\n",
       "    <tr>\n",
       "      <th>4</th>\n",
       "      <td>AAA</td>\n",
       "      <td>2013J</td>\n",
       "      <td>1756</td>\n",
       "      <td>TMA</td>\n",
       "      <td>215</td>\n",
       "      <td>30.0</td>\n",
       "    </tr>\n",
       "  </tbody>\n",
       "</table>\n",
       "</div>"
      ],
      "text/plain": [
       "  code_module code_presentation  id_assessment assessment_type date  weight\n",
       "0         AAA             2013J           1752             TMA   19    10.0\n",
       "1         AAA             2013J           1753             TMA   54    20.0\n",
       "2         AAA             2013J           1754             TMA  117    20.0\n",
       "3         AAA             2013J           1755             TMA  166    20.0\n",
       "4         AAA             2013J           1756             TMA  215    30.0"
      ]
     },
     "execution_count": 4,
     "metadata": {},
     "output_type": "execute_result"
    }
   ],
   "source": [
    "oulad_assessment.head()"
   ]
  },
  {
   "cell_type": "code",
   "execution_count": 5,
   "metadata": {},
   "outputs": [],
   "source": [
    "### Filling in the missing values with the mean of the number of days.\n",
    "\n",
    "oulad_assessment['date'] = oulad_assessment['date'].fillna(int(oulad_assessment['date'].astype(float).mean()))"
   ]
  },
  {
   "cell_type": "code",
   "execution_count": 6,
   "metadata": {},
   "outputs": [
    {
     "data": {
      "text/plain": [
       "array(['AAA', 'BBB', 'CCC', 'DDD', 'EEE', 'FFF', 'GGG'], dtype=object)"
      ]
     },
     "execution_count": 6,
     "metadata": {},
     "output_type": "execute_result"
    }
   ],
   "source": [
    "### There are 7 types of code_module\n",
    "\n",
    "oulad_assessment['code_module'].unique()"
   ]
  },
  {
   "cell_type": "code",
   "execution_count": 7,
   "metadata": {},
   "outputs": [
    {
     "data": {
      "text/plain": [
       "array(['TMA', 'Exam', 'CMA'], dtype=object)"
      ]
     },
     "execution_count": 7,
     "metadata": {},
     "output_type": "execute_result"
    }
   ],
   "source": [
    "### There are 3 types of Assessment\n",
    "# TMA :- Tutor Marked Assessment\n",
    "# CMA :- Computer Marked Assessment\n",
    "# Exam :- Final Exam\n",
    "\n",
    "oulad_assessment['assessment_type'].unique()"
   ]
  },
  {
   "cell_type": "code",
   "execution_count": 8,
   "metadata": {},
   "outputs": [
    {
     "data": {
      "text/plain": [
       "(array([29., 25., 22., 34., 20., 32., 44.]),\n",
       " array([ 12.        ,  47.57142857,  83.14285714, 118.71428571,\n",
       "        154.28571429, 189.85714286, 225.42857143, 261.        ]),\n",
       " <a list of 7 Patch objects>)"
      ]
     },
     "execution_count": 8,
     "metadata": {},
     "output_type": "execute_result"
    },
    {
     "data": {
      "image/png": "[encoded data removed]",
      "text/plain": [
       "<Figure size 432x288 with 1 Axes>"
      ]
     },
     "metadata": {
      "needs_background": "light"
     },
     "output_type": "display_data"
    }
   ],
   "source": [
    "### Below histogram shows us the range of for the number for days for final submission.\n",
    "\n",
    "plt.hist(oulad_assessment['date'].astype(int), bins=7)"
   ]
  },
  {
   "cell_type": "code",
   "execution_count": 9,
   "metadata": {},
   "outputs": [
    {
     "name": "stdout",
     "output_type": "stream",
     "text": [
      "\n",
      "Number of rows in data are 22\n",
      "Number of columns in data are 3\n",
      "\n",
      "Following are the data types of columns:- \n",
      "code_module                   object\n",
      "code_presentation             object\n",
      "module_presentation_length     int64\n",
      "dtype: object\n",
      "Number of missing values in the data are:- \n",
      "code_module                   0\n",
      "code_presentation             0\n",
      "module_presentation_length    0\n",
      "dtype: int64\n",
      "Data Import is Complete\n"
     ]
    }
   ],
   "source": [
    "\"\"\"Loading Courses Data\"\"\"\n",
    "\n",
    "# code_module         name of the module, which serves as the identifier\n",
    "# code_presentation   name of the presentation. It consists of the year and B for the presentation \n",
    "#                     starting in February and J for the presentation starting in October\n",
    "# length              length of the module presentation in days\n",
    "\n",
    "oulad_courses = Load_File('Desktop/OULAD/courses.csv')"
   ]
  },
  {
   "cell_type": "code",
   "execution_count": 10,
   "metadata": {
    "scrolled": true
   },
   "outputs": [
    {
     "data": {
      "text/html": [
       "<div>\n",
       "<style scoped>\n",
       "    .dataframe tbody tr th:only-of-type {\n",
       "        vertical-align: middle;\n",
       "    }\n",
       "\n",
       "    .dataframe tbody tr th {\n",
       "        vertical-align: top;\n",
       "    }\n",
       "\n",
       "    .dataframe thead th {\n",
       "        text-align: right;\n",
       "    }\n",
       "</style>\n",
       "<table border=\"1\" class=\"dataframe\">\n",
       "  <thead>\n",
       "    <tr style=\"text-align: right;\">\n",
       "      <th></th>\n",
       "      <th>code_module</th>\n",
       "      <th>code_presentation</th>\n",
       "      <th>module_presentation_length</th>\n",
       "    </tr>\n",
       "  </thead>\n",
       "  <tbody>\n",
       "    <tr>\n",
       "      <th>0</th>\n",
       "      <td>AAA</td>\n",
       "      <td>2013J</td>\n",
       "      <td>268</td>\n",
       "    </tr>\n",
       "    <tr>\n",
       "      <th>1</th>\n",
       "      <td>AAA</td>\n",
       "      <td>2014J</td>\n",
       "      <td>269</td>\n",
       "    </tr>\n",
       "    <tr>\n",
       "      <th>2</th>\n",
       "      <td>BBB</td>\n",
       "      <td>2013J</td>\n",
       "      <td>268</td>\n",
       "    </tr>\n",
       "    <tr>\n",
       "      <th>3</th>\n",
       "      <td>BBB</td>\n",
       "      <td>2014J</td>\n",
       "      <td>262</td>\n",
       "    </tr>\n",
       "    <tr>\n",
       "      <th>4</th>\n",
       "      <td>BBB</td>\n",
       "      <td>2013B</td>\n",
       "      <td>240</td>\n",
       "    </tr>\n",
       "  </tbody>\n",
       "</table>\n",
       "</div>"
      ],
      "text/plain": [
       "  code_module code_presentation  module_presentation_length\n",
       "0         AAA             2013J                         268\n",
       "1         AAA             2014J                         269\n",
       "2         BBB             2013J                         268\n",
       "3         BBB             2014J                         262\n",
       "4         BBB             2013B                         240"
      ]
     },
     "execution_count": 10,
     "metadata": {},
     "output_type": "execute_result"
    }
   ],
   "source": [
    "oulad_courses.head()"
   ]
  },
  {
   "cell_type": "code",
   "execution_count": 11,
   "metadata": {},
   "outputs": [
    {
     "name": "stdout",
     "output_type": "stream",
     "text": [
      "\n",
      "Number of rows in data are 173912\n",
      "Number of columns in data are 5\n",
      "\n",
      "Following are the data types of columns:- \n",
      "id_assessment      int64\n",
      "id_student         int64\n",
      "date_submitted     int64\n",
      "is_banked          int64\n",
      "score             object\n",
      "dtype: object\n",
      "Number of missing values in the data are:- \n",
      "id_assessment       0\n",
      "id_student          0\n",
      "date_submitted      0\n",
      "is_banked           0\n",
      "score             173\n",
      "dtype: int64\n",
      "Data Import is Complete\n"
     ]
    }
   ],
   "source": [
    "\"\"\"Loading Student Assessment Data\"\"\"\n",
    "\n",
    "# id_assessment            the identification number of the assessment\n",
    "# id_student               a unique identification number for the student\n",
    "# date_submitted           the date of student submission, measured as the number of days \n",
    "#.                         since the start of the module presentation\n",
    "# is_banked                a status flag indicating that the assessment result has been transferred from a previous presentation\n",
    "# score                    the studentís score in this assessment. The range is from 0 to 100. The score lower than 40 is \n",
    "#                          interpreted as Fail. The marks are in the range from 0 to 100\n",
    "\n",
    "oulad_student_assessment = Load_File('Desktop/OULAD/studentAssessment.csv')"
   ]
  },
  {
   "cell_type": "code",
   "execution_count": 12,
   "metadata": {},
   "outputs": [],
   "source": [
    "### As the number of missing values are very less as compared to the total data\n",
    "\n",
    "oulad_student_assessment = oulad_student_assessment.dropna()"
   ]
  },
  {
   "cell_type": "code",
   "execution_count": 13,
   "metadata": {},
   "outputs": [
    {
     "data": {
      "text/html": [
       "<div>\n",
       "<style scoped>\n",
       "    .dataframe tbody tr th:only-of-type {\n",
       "        vertical-align: middle;\n",
       "    }\n",
       "\n",
       "    .dataframe tbody tr th {\n",
       "        vertical-align: top;\n",
       "    }\n",
       "\n",
       "    .dataframe thead th {\n",
       "        text-align: right;\n",
       "    }\n",
       "</style>\n",
       "<table border=\"1\" class=\"dataframe\">\n",
       "  <thead>\n",
       "    <tr style=\"text-align: right;\">\n",
       "      <th></th>\n",
       "      <th>id_assessment</th>\n",
       "      <th>id_student</th>\n",
       "      <th>date_submitted</th>\n",
       "      <th>is_banked</th>\n",
       "      <th>score</th>\n",
       "    </tr>\n",
       "  </thead>\n",
       "  <tbody>\n",
       "    <tr>\n",
       "      <th>0</th>\n",
       "      <td>1752</td>\n",
       "      <td>11391</td>\n",
       "      <td>18</td>\n",
       "      <td>0</td>\n",
       "      <td>78</td>\n",
       "    </tr>\n",
       "    <tr>\n",
       "      <th>1</th>\n",
       "      <td>1752</td>\n",
       "      <td>28400</td>\n",
       "      <td>22</td>\n",
       "      <td>0</td>\n",
       "      <td>70</td>\n",
       "    </tr>\n",
       "    <tr>\n",
       "      <th>2</th>\n",
       "      <td>1752</td>\n",
       "      <td>31604</td>\n",
       "      <td>17</td>\n",
       "      <td>0</td>\n",
       "      <td>72</td>\n",
       "    </tr>\n",
       "    <tr>\n",
       "      <th>3</th>\n",
       "      <td>1752</td>\n",
       "      <td>32885</td>\n",
       "      <td>26</td>\n",
       "      <td>0</td>\n",
       "      <td>69</td>\n",
       "    </tr>\n",
       "    <tr>\n",
       "      <th>4</th>\n",
       "      <td>1752</td>\n",
       "      <td>38053</td>\n",
       "      <td>19</td>\n",
       "      <td>0</td>\n",
       "      <td>79</td>\n",
       "    </tr>\n",
       "  </tbody>\n",
       "</table>\n",
       "</div>"
      ],
      "text/plain": [
       "   id_assessment  id_student  date_submitted  is_banked score\n",
       "0           1752       11391              18          0    78\n",
       "1           1752       28400              22          0    70\n",
       "2           1752       31604              17          0    72\n",
       "3           1752       32885              26          0    69\n",
       "4           1752       38053              19          0    79"
      ]
     },
     "execution_count": 13,
     "metadata": {},
     "output_type": "execute_result"
    }
   ],
   "source": [
    "oulad_student_assessment.head()"
   ]
  },
  {
   "cell_type": "code",
   "execution_count": 14,
   "metadata": {},
   "outputs": [
    {
     "name": "stdout",
     "output_type": "stream",
     "text": [
      "\n",
      "Number of rows in data are 32593\n",
      "Number of columns in data are 5\n",
      "\n",
      "Following are the data types of columns:- \n",
      "code_module            object\n",
      "code_presentation      object\n",
      "id_student              int64\n",
      "date_registration      object\n",
      "date_unregistration    object\n",
      "dtype: object\n",
      "Number of missing values in the data are:- \n",
      "code_module                0\n",
      "code_presentation          0\n",
      "id_student                 0\n",
      "date_registration         45\n",
      "date_unregistration    22521\n",
      "dtype: int64\n",
      "Data Import is Complete\n"
     ]
    }
   ],
   "source": [
    "\"\"\"Loading Student Registration Data\"\"\"\n",
    "\n",
    "# code_module             an identification code for a module\n",
    "# code_presentation       the identification code of the presentation\n",
    "# id_student              a unique identification number for the student\n",
    "# date_registration       the date of student's registration on the module presentation, this is the number of days measured relative to \n",
    "#                         the start of the module-presentation (e.g. the negative value -30 means that the student registered to module\n",
    "#                         presentation 30 days before it started)\n",
    "# date_unregistration     date of student unregistration from the module presentation, this is the number of days measured relative to \n",
    "#                         the start of the module-presentation. Students, who completed the course have this field empty. Students who \n",
    "#                         unregistered have Withdrawal as the value of the final_result column in the studentInfo.csv file\n",
    "\n",
    "oulad_student_registration = Load_File('Desktop/OULAD/studentRegistration.csv')"
   ]
  },
  {
   "cell_type": "code",
   "execution_count": 15,
   "metadata": {},
   "outputs": [],
   "source": [
    "## From the description it is clear that if value is missing in column date_unregistration then that means student\n",
    "## completed the course and if it is null then student withdrawn from the course\n",
    "\n",
    "## 0 : 'COMPLETED'\n",
    "## 1 : 'WITHDRAWN'\n",
    "\n",
    "## There are very few missing values in the data_registration column. I replaced it with the 0 \n",
    "\n",
    "oulad_student_registration['date_unregistration'] = ['0' if pd.isnull(days) else '1' for days in oulad_student_registration['date_unregistration']]\n",
    "oulad_student_registration['date_registration']   = oulad_student_registration['date_registration'].fillna(0).astype(float).apply(abs)\n"
   ]
  },
  {
   "cell_type": "code",
   "execution_count": 16,
   "metadata": {},
   "outputs": [
    {
     "data": {
      "text/html": [
       "<div>\n",
       "<style scoped>\n",
       "    .dataframe tbody tr th:only-of-type {\n",
       "        vertical-align: middle;\n",
       "    }\n",
       "\n",
       "    .dataframe tbody tr th {\n",
       "        vertical-align: top;\n",
       "    }\n",
       "\n",
       "    .dataframe thead th {\n",
       "        text-align: right;\n",
       "    }\n",
       "</style>\n",
       "<table border=\"1\" class=\"dataframe\">\n",
       "  <thead>\n",
       "    <tr style=\"text-align: right;\">\n",
       "      <th></th>\n",
       "      <th>code_module</th>\n",
       "      <th>code_presentation</th>\n",
       "      <th>id_student</th>\n",
       "      <th>date_registration</th>\n",
       "      <th>date_unregistration</th>\n",
       "    </tr>\n",
       "  </thead>\n",
       "  <tbody>\n",
       "    <tr>\n",
       "      <th>0</th>\n",
       "      <td>AAA</td>\n",
       "      <td>2013J</td>\n",
       "      <td>11391</td>\n",
       "      <td>159.0</td>\n",
       "      <td>0</td>\n",
       "    </tr>\n",
       "    <tr>\n",
       "      <th>1</th>\n",
       "      <td>AAA</td>\n",
       "      <td>2013J</td>\n",
       "      <td>28400</td>\n",
       "      <td>53.0</td>\n",
       "      <td>0</td>\n",
       "    </tr>\n",
       "    <tr>\n",
       "      <th>2</th>\n",
       "      <td>AAA</td>\n",
       "      <td>2013J</td>\n",
       "      <td>30268</td>\n",
       "      <td>92.0</td>\n",
       "      <td>1</td>\n",
       "    </tr>\n",
       "    <tr>\n",
       "      <th>3</th>\n",
       "      <td>AAA</td>\n",
       "      <td>2013J</td>\n",
       "      <td>31604</td>\n",
       "      <td>52.0</td>\n",
       "      <td>0</td>\n",
       "    </tr>\n",
       "    <tr>\n",
       "      <th>4</th>\n",
       "      <td>AAA</td>\n",
       "      <td>2013J</td>\n",
       "      <td>32885</td>\n",
       "      <td>176.0</td>\n",
       "      <td>0</td>\n",
       "    </tr>\n",
       "  </tbody>\n",
       "</table>\n",
       "</div>"
      ],
      "text/plain": [
       "  code_module code_presentation  id_student  date_registration  \\\n",
       "0         AAA             2013J       11391              159.0   \n",
       "1         AAA             2013J       28400               53.0   \n",
       "2         AAA             2013J       30268               92.0   \n",
       "3         AAA             2013J       31604               52.0   \n",
       "4         AAA             2013J       32885              176.0   \n",
       "\n",
       "  date_unregistration  \n",
       "0                   0  \n",
       "1                   0  \n",
       "2                   1  \n",
       "3                   0  \n",
       "4                   0  "
      ]
     },
     "execution_count": 16,
     "metadata": {},
     "output_type": "execute_result"
    }
   ],
   "source": [
    "oulad_student_registration.head()"
   ]
  },
  {
   "cell_type": "code",
   "execution_count": 17,
   "metadata": {},
   "outputs": [
    {
     "name": "stdout",
     "output_type": "stream",
     "text": [
      "\n",
      "Number of rows in data are 32593\n",
      "Number of columns in data are 12\n",
      "\n",
      "Following are the data types of columns:- \n",
      "code_module             object\n",
      "code_presentation       object\n",
      "id_student               int64\n",
      "gender                  object\n",
      "region                  object\n",
      "highest_education       object\n",
      "imd_band                object\n",
      "age_band                object\n",
      "num_of_prev_attempts     int64\n",
      "studied_credits          int64\n",
      "disability              object\n",
      "final_result            object\n",
      "dtype: object\n",
      "Number of missing values in the data are:- \n",
      "code_module                0\n",
      "code_presentation          0\n",
      "id_student                 0\n",
      "gender                     0\n",
      "region                     0\n",
      "highest_education          0\n",
      "imd_band                1111\n",
      "age_band                   0\n",
      "num_of_prev_attempts       0\n",
      "studied_credits            0\n",
      "disability                 0\n",
      "final_result               0\n",
      "dtype: int64\n",
      "Data Import is Complete\n"
     ]
    }
   ],
   "source": [
    "\"\"\"Loading Student Information Data\"\"\"\n",
    "\n",
    "# code_module             an identification code for a module on which the student is registered\n",
    "# code_presentation       the identification code of the presentation during which the student is registered on the module\n",
    "# id_student              a unique identification number for the student\n",
    "# gender                  the studentís gender\n",
    "# region                  identifies the geographic region, where the student lived while taking the module-presentation\n",
    "# highest_education       highest student education level on entry to the module presentation\n",
    "# imd_band                specifies the Index of Multiple Depravation band of the place where the student lived during the module-presentation\n",
    "# age_band                band of the studentís age\n",
    "# num_of_prev_attempts    the number times the student has attempted this module\n",
    "# studied_credits         the total number of credits for the modules the student is currently studying\n",
    "# disability              indicates whether the student has declared a disability\n",
    "# final_result            studentís final result in the module-presentation\n",
    "\n",
    "oulad_student_info = Load_File('Desktop/OULAD/studentInfo.csv')"
   ]
  },
  {
   "cell_type": "code",
   "execution_count": 18,
   "metadata": {},
   "outputs": [
    {
     "name": "stdout",
     "output_type": "stream",
     "text": [
      "['90-100%' '20-30%' '30-40%' '50-60%' '80-90%' '70-80%' nan '60-70%'\n",
      " '40-50%' '10-20' '0-10%']\n"
     ]
    }
   ],
   "source": [
    "### There are missing values in the imd_band. As those represent then band in which they are, we can think of them \n",
    "### like a category and we can fill missing values with the mode\n",
    "\n",
    "print(oulad_student_info['imd_band'].unique())\n",
    "\n",
    "oulad_student_info['imd_band'] = oulad_student_info['imd_band'].fillna(oulad_student_info['imd_band'].mode()[0])"
   ]
  },
  {
   "cell_type": "code",
   "execution_count": 19,
   "metadata": {},
   "outputs": [
    {
     "data": {
      "text/html": [
       "<div>\n",
       "<style scoped>\n",
       "    .dataframe tbody tr th:only-of-type {\n",
       "        vertical-align: middle;\n",
       "    }\n",
       "\n",
       "    .dataframe tbody tr th {\n",
       "        vertical-align: top;\n",
       "    }\n",
       "\n",
       "    .dataframe thead th {\n",
       "        text-align: right;\n",
       "    }\n",
       "</style>\n",
       "<table border=\"1\" class=\"dataframe\">\n",
       "  <thead>\n",
       "    <tr style=\"text-align: right;\">\n",
       "      <th></th>\n",
       "      <th>code_module</th>\n",
       "      <th>code_presentation</th>\n",
       "      <th>id_student</th>\n",
       "      <th>gender</th>\n",
       "      <th>region</th>\n",
       "      <th>highest_education</th>\n",
       "      <th>imd_band</th>\n",
       "      <th>age_band</th>\n",
       "      <th>num_of_prev_attempts</th>\n",
       "      <th>studied_credits</th>\n",
       "      <th>disability</th>\n",
       "      <th>final_result</th>\n",
       "    </tr>\n",
       "  </thead>\n",
       "  <tbody>\n",
       "    <tr>\n",
       "      <th>0</th>\n",
       "      <td>AAA</td>\n",
       "      <td>2013J</td>\n",
       "      <td>11391</td>\n",
       "      <td>M</td>\n",
       "      <td>East Anglian Region</td>\n",
       "      <td>HE Qualification</td>\n",
       "      <td>90-100%</td>\n",
       "      <td>55&lt;=</td>\n",
       "      <td>0</td>\n",
       "      <td>240</td>\n",
       "      <td>N</td>\n",
       "      <td>Pass</td>\n",
       "    </tr>\n",
       "    <tr>\n",
       "      <th>1</th>\n",
       "      <td>AAA</td>\n",
       "      <td>2013J</td>\n",
       "      <td>28400</td>\n",
       "      <td>F</td>\n",
       "      <td>Scotland</td>\n",
       "      <td>HE Qualification</td>\n",
       "      <td>20-30%</td>\n",
       "      <td>35-55</td>\n",
       "      <td>0</td>\n",
       "      <td>60</td>\n",
       "      <td>N</td>\n",
       "      <td>Pass</td>\n",
       "    </tr>\n",
       "    <tr>\n",
       "      <th>2</th>\n",
       "      <td>AAA</td>\n",
       "      <td>2013J</td>\n",
       "      <td>30268</td>\n",
       "      <td>F</td>\n",
       "      <td>North Western Region</td>\n",
       "      <td>A Level or Equivalent</td>\n",
       "      <td>30-40%</td>\n",
       "      <td>35-55</td>\n",
       "      <td>0</td>\n",
       "      <td>60</td>\n",
       "      <td>Y</td>\n",
       "      <td>Withdrawn</td>\n",
       "    </tr>\n",
       "    <tr>\n",
       "      <th>3</th>\n",
       "      <td>AAA</td>\n",
       "      <td>2013J</td>\n",
       "      <td>31604</td>\n",
       "      <td>F</td>\n",
       "      <td>South East Region</td>\n",
       "      <td>A Level or Equivalent</td>\n",
       "      <td>50-60%</td>\n",
       "      <td>35-55</td>\n",
       "      <td>0</td>\n",
       "      <td>60</td>\n",
       "      <td>N</td>\n",
       "      <td>Pass</td>\n",
       "    </tr>\n",
       "    <tr>\n",
       "      <th>4</th>\n",
       "      <td>AAA</td>\n",
       "      <td>2013J</td>\n",
       "      <td>32885</td>\n",
       "      <td>F</td>\n",
       "      <td>West Midlands Region</td>\n",
       "      <td>Lower Than A Level</td>\n",
       "      <td>50-60%</td>\n",
       "      <td>0-35</td>\n",
       "      <td>0</td>\n",
       "      <td>60</td>\n",
       "      <td>N</td>\n",
       "      <td>Pass</td>\n",
       "    </tr>\n",
       "  </tbody>\n",
       "</table>\n",
       "</div>"
      ],
      "text/plain": [
       "  code_module code_presentation  id_student gender                region  \\\n",
       "0         AAA             2013J       11391      M   East Anglian Region   \n",
       "1         AAA             2013J       28400      F              Scotland   \n",
       "2         AAA             2013J       30268      F  North Western Region   \n",
       "3         AAA             2013J       31604      F     South East Region   \n",
       "4         AAA             2013J       32885      F  West Midlands Region   \n",
       "\n",
       "       highest_education imd_band age_band  num_of_prev_attempts  \\\n",
       "0       HE Qualification  90-100%     55<=                     0   \n",
       "1       HE Qualification   20-30%    35-55                     0   \n",
       "2  A Level or Equivalent   30-40%    35-55                     0   \n",
       "3  A Level or Equivalent   50-60%    35-55                     0   \n",
       "4     Lower Than A Level   50-60%     0-35                     0   \n",
       "\n",
       "   studied_credits disability final_result  \n",
       "0              240          N         Pass  \n",
       "1               60          N         Pass  \n",
       "2               60          Y    Withdrawn  \n",
       "3               60          N         Pass  \n",
       "4               60          N         Pass  "
      ]
     },
     "execution_count": 19,
     "metadata": {},
     "output_type": "execute_result"
    }
   ],
   "source": [
    "oulad_student_info.head()"
   ]
  },
  {
   "cell_type": "code",
   "execution_count": 20,
   "metadata": {},
   "outputs": [
    {
     "name": "stdout",
     "output_type": "stream",
     "text": [
      "\n",
      "Number of rows in data are 10655280\n",
      "Number of columns in data are 6\n",
      "\n",
      "Following are the data types of columns:- \n",
      "code_module          object\n",
      "code_presentation    object\n",
      "id_student            int64\n",
      "id_site               int64\n",
      "date                  int64\n",
      "sum_click             int64\n",
      "dtype: object\n",
      "Number of missing values in the data are:- \n",
      "code_module          0\n",
      "code_presentation    0\n",
      "id_student           0\n",
      "id_site              0\n",
      "date                 0\n",
      "sum_click            0\n",
      "dtype: int64\n",
      "Data Import is Complete\n"
     ]
    }
   ],
   "source": [
    "# code_module           an identification code for a module\n",
    "# code_presentation     the identification code of the module presentation\n",
    "# id_student            a unique identification number for the student\n",
    "# id_site               an identification number for the VLE material\n",
    "# date                  the date of studentís interaction with the material measured as the \n",
    "#                       number of days since the start of the module-presentation\n",
    "# sum_click             the number of times a student interacts with the material in that day \n",
    "\n",
    "oulad_student_vle = Load_File('Desktop/OULAD/studentVle.csv')"
   ]
  },
  {
   "cell_type": "code",
   "execution_count": 21,
   "metadata": {},
   "outputs": [
    {
     "data": {
      "text/html": [
       "<div>\n",
       "<style scoped>\n",
       "    .dataframe tbody tr th:only-of-type {\n",
       "        vertical-align: middle;\n",
       "    }\n",
       "\n",
       "    .dataframe tbody tr th {\n",
       "        vertical-align: top;\n",
       "    }\n",
       "\n",
       "    .dataframe thead th {\n",
       "        text-align: right;\n",
       "    }\n",
       "</style>\n",
       "<table border=\"1\" class=\"dataframe\">\n",
       "  <thead>\n",
       "    <tr style=\"text-align: right;\">\n",
       "      <th></th>\n",
       "      <th>code_module</th>\n",
       "      <th>code_presentation</th>\n",
       "      <th>id_student</th>\n",
       "      <th>id_site</th>\n",
       "      <th>date</th>\n",
       "      <th>sum_click</th>\n",
       "    </tr>\n",
       "  </thead>\n",
       "  <tbody>\n",
       "    <tr>\n",
       "      <th>0</th>\n",
       "      <td>AAA</td>\n",
       "      <td>2013J</td>\n",
       "      <td>28400</td>\n",
       "      <td>546652</td>\n",
       "      <td>-10</td>\n",
       "      <td>4</td>\n",
       "    </tr>\n",
       "    <tr>\n",
       "      <th>1</th>\n",
       "      <td>AAA</td>\n",
       "      <td>2013J</td>\n",
       "      <td>28400</td>\n",
       "      <td>546652</td>\n",
       "      <td>-10</td>\n",
       "      <td>1</td>\n",
       "    </tr>\n",
       "    <tr>\n",
       "      <th>2</th>\n",
       "      <td>AAA</td>\n",
       "      <td>2013J</td>\n",
       "      <td>28400</td>\n",
       "      <td>546652</td>\n",
       "      <td>-10</td>\n",
       "      <td>1</td>\n",
       "    </tr>\n",
       "    <tr>\n",
       "      <th>3</th>\n",
       "      <td>AAA</td>\n",
       "      <td>2013J</td>\n",
       "      <td>28400</td>\n",
       "      <td>546614</td>\n",
       "      <td>-10</td>\n",
       "      <td>11</td>\n",
       "    </tr>\n",
       "    <tr>\n",
       "      <th>4</th>\n",
       "      <td>AAA</td>\n",
       "      <td>2013J</td>\n",
       "      <td>28400</td>\n",
       "      <td>546714</td>\n",
       "      <td>-10</td>\n",
       "      <td>1</td>\n",
       "    </tr>\n",
       "  </tbody>\n",
       "</table>\n",
       "</div>"
      ],
      "text/plain": [
       "  code_module code_presentation  id_student  id_site  date  sum_click\n",
       "0         AAA             2013J       28400   546652   -10          4\n",
       "1         AAA             2013J       28400   546652   -10          1\n",
       "2         AAA             2013J       28400   546652   -10          1\n",
       "3         AAA             2013J       28400   546614   -10         11\n",
       "4         AAA             2013J       28400   546714   -10          1"
      ]
     },
     "execution_count": 21,
     "metadata": {},
     "output_type": "execute_result"
    }
   ],
   "source": [
    "oulad_student_vle.head()"
   ]
  },
  {
   "cell_type": "code",
   "execution_count": 22,
   "metadata": {},
   "outputs": [
    {
     "name": "stdout",
     "output_type": "stream",
     "text": [
      "\n",
      "Number of rows in data are 6364\n",
      "Number of columns in data are 6\n",
      "\n",
      "Following are the data types of columns:- \n",
      "id_site               int64\n",
      "code_module          object\n",
      "code_presentation    object\n",
      "activity_type        object\n",
      "week_from            object\n",
      "week_to              object\n",
      "dtype: object\n",
      "Number of missing values in the data are:- \n",
      "id_site                 0\n",
      "code_module             0\n",
      "code_presentation       0\n",
      "activity_type           0\n",
      "week_from            5243\n",
      "week_to              5243\n",
      "dtype: int64\n",
      "Data Import is Complete\n"
     ]
    }
   ],
   "source": [
    "\"\"\"Loading VLE data\"\"\"\n",
    "# id_site              an identification number of the material\n",
    "# code_module          an identification code for module\n",
    "# code_presentation    the identification code of presentation\n",
    "# activity_type        the role associated with the module material\n",
    "# week_from            the week from which the material is planned to be used\n",
    "# week_to              week until which the material is planned to be used\n",
    "\n",
    "oulad_vle = Load_File('Desktop/OULAD/vle.csv')"
   ]
  },
  {
   "cell_type": "code",
   "execution_count": 23,
   "metadata": {},
   "outputs": [],
   "source": [
    "### As we can see that there are close to 80% values which are missing in the week_from and week_to columns\n",
    "### So I will remove those columns\n",
    "\n",
    "oulad_vle = oulad_vle.drop(['week_from', 'week_to'], axis = 1)"
   ]
  },
  {
   "cell_type": "code",
   "execution_count": 24,
   "metadata": {},
   "outputs": [
    {
     "data": {
      "text/html": [
       "<div>\n",
       "<style scoped>\n",
       "    .dataframe tbody tr th:only-of-type {\n",
       "        vertical-align: middle;\n",
       "    }\n",
       "\n",
       "    .dataframe tbody tr th {\n",
       "        vertical-align: top;\n",
       "    }\n",
       "\n",
       "    .dataframe thead th {\n",
       "        text-align: right;\n",
       "    }\n",
       "</style>\n",
       "<table border=\"1\" class=\"dataframe\">\n",
       "  <thead>\n",
       "    <tr style=\"text-align: right;\">\n",
       "      <th></th>\n",
       "      <th>id_site</th>\n",
       "      <th>code_module</th>\n",
       "      <th>code_presentation</th>\n",
       "      <th>activity_type</th>\n",
       "    </tr>\n",
       "  </thead>\n",
       "  <tbody>\n",
       "    <tr>\n",
       "      <th>0</th>\n",
       "      <td>546943</td>\n",
       "      <td>AAA</td>\n",
       "      <td>2013J</td>\n",
       "      <td>resource</td>\n",
       "    </tr>\n",
       "    <tr>\n",
       "      <th>1</th>\n",
       "      <td>546712</td>\n",
       "      <td>AAA</td>\n",
       "      <td>2013J</td>\n",
       "      <td>oucontent</td>\n",
       "    </tr>\n",
       "    <tr>\n",
       "      <th>2</th>\n",
       "      <td>546998</td>\n",
       "      <td>AAA</td>\n",
       "      <td>2013J</td>\n",
       "      <td>resource</td>\n",
       "    </tr>\n",
       "    <tr>\n",
       "      <th>3</th>\n",
       "      <td>546888</td>\n",
       "      <td>AAA</td>\n",
       "      <td>2013J</td>\n",
       "      <td>url</td>\n",
       "    </tr>\n",
       "    <tr>\n",
       "      <th>4</th>\n",
       "      <td>547035</td>\n",
       "      <td>AAA</td>\n",
       "      <td>2013J</td>\n",
       "      <td>resource</td>\n",
       "    </tr>\n",
       "  </tbody>\n",
       "</table>\n",
       "</div>"
      ],
      "text/plain": [
       "   id_site code_module code_presentation activity_type\n",
       "0   546943         AAA             2013J      resource\n",
       "1   546712         AAA             2013J     oucontent\n",
       "2   546998         AAA             2013J      resource\n",
       "3   546888         AAA             2013J           url\n",
       "4   547035         AAA             2013J      resource"
      ]
     },
     "execution_count": 24,
     "metadata": {},
     "output_type": "execute_result"
    }
   ],
   "source": [
    "oulad_vle.head()"
   ]
  },
  {
   "cell_type": "code",
   "execution_count": 25,
   "metadata": {},
   "outputs": [
    {
     "data": {
      "image/png": "[encoded data removed]",
      "text/plain": [
       "<Figure size 1080x432 with 1 Axes>"
      ]
     },
     "metadata": {
      "needs_background": "light"
     },
     "output_type": "display_data"
    }
   ],
   "source": [
    "### We can see from the plot that activity_type = 'resource' has the most data points in VLE table\n",
    "\n",
    "countplot(90, 0, 14, 10, 'activity_type', oulad_vle, plot_size=(15, 6))"
   ]
  },
  {
   "attachments": {
    "image.png": {
     "image/png": "[encoded data removed]"
    }
   },
   "cell_type": "markdown",
   "metadata": {},
   "source": [
    "# MERGING DATA\n",
    "\n",
    "#### In this step we will merge different dataframe which we loaded in the previous steps. Based on the database schema we will \n",
    "#### join the different tables\n",
    "\n",
    "Database schema.png![image.png](attachment:image.png)"
   ]
  },
  {
   "cell_type": "markdown",
   "metadata": {},
   "source": [
    "###### In the first step I am merging studentVle table with the vle table. This can show us about the interactions of students with VLE."
   ]
  },
  {
   "cell_type": "code",
   "execution_count": 26,
   "metadata": {},
   "outputs": [],
   "source": [
    "student_vle_merge_vle = oulad_student_vle.merge(oulad_vle, \n",
    "                                                on=['id_site', 'code_module', 'code_presentation'],\n",
    "                                                how = 'left')"
   ]
  },
  {
   "cell_type": "code",
   "execution_count": 27,
   "metadata": {},
   "outputs": [
    {
     "data": {
      "text/html": [
       "<div>\n",
       "<style scoped>\n",
       "    .dataframe tbody tr th:only-of-type {\n",
       "        vertical-align: middle;\n",
       "    }\n",
       "\n",
       "    .dataframe tbody tr th {\n",
       "        vertical-align: top;\n",
       "    }\n",
       "\n",
       "    .dataframe thead th {\n",
       "        text-align: right;\n",
       "    }\n",
       "</style>\n",
       "<table border=\"1\" class=\"dataframe\">\n",
       "  <thead>\n",
       "    <tr style=\"text-align: right;\">\n",
       "      <th></th>\n",
       "      <th>code_module</th>\n",
       "      <th>code_presentation</th>\n",
       "      <th>id_student</th>\n",
       "      <th>id_site</th>\n",
       "      <th>date</th>\n",
       "      <th>sum_click</th>\n",
       "      <th>activity_type</th>\n",
       "    </tr>\n",
       "  </thead>\n",
       "  <tbody>\n",
       "    <tr>\n",
       "      <th>0</th>\n",
       "      <td>AAA</td>\n",
       "      <td>2013J</td>\n",
       "      <td>28400</td>\n",
       "      <td>546652</td>\n",
       "      <td>-10</td>\n",
       "      <td>4</td>\n",
       "      <td>forumng</td>\n",
       "    </tr>\n",
       "    <tr>\n",
       "      <th>1</th>\n",
       "      <td>AAA</td>\n",
       "      <td>2013J</td>\n",
       "      <td>28400</td>\n",
       "      <td>546652</td>\n",
       "      <td>-10</td>\n",
       "      <td>1</td>\n",
       "      <td>forumng</td>\n",
       "    </tr>\n",
       "    <tr>\n",
       "      <th>2</th>\n",
       "      <td>AAA</td>\n",
       "      <td>2013J</td>\n",
       "      <td>28400</td>\n",
       "      <td>546652</td>\n",
       "      <td>-10</td>\n",
       "      <td>1</td>\n",
       "      <td>forumng</td>\n",
       "    </tr>\n",
       "    <tr>\n",
       "      <th>3</th>\n",
       "      <td>AAA</td>\n",
       "      <td>2013J</td>\n",
       "      <td>28400</td>\n",
       "      <td>546614</td>\n",
       "      <td>-10</td>\n",
       "      <td>11</td>\n",
       "      <td>homepage</td>\n",
       "    </tr>\n",
       "    <tr>\n",
       "      <th>4</th>\n",
       "      <td>AAA</td>\n",
       "      <td>2013J</td>\n",
       "      <td>28400</td>\n",
       "      <td>546714</td>\n",
       "      <td>-10</td>\n",
       "      <td>1</td>\n",
       "      <td>oucontent</td>\n",
       "    </tr>\n",
       "    <tr>\n",
       "      <th>5</th>\n",
       "      <td>AAA</td>\n",
       "      <td>2013J</td>\n",
       "      <td>28400</td>\n",
       "      <td>546652</td>\n",
       "      <td>-10</td>\n",
       "      <td>8</td>\n",
       "      <td>forumng</td>\n",
       "    </tr>\n",
       "    <tr>\n",
       "      <th>6</th>\n",
       "      <td>AAA</td>\n",
       "      <td>2013J</td>\n",
       "      <td>28400</td>\n",
       "      <td>546876</td>\n",
       "      <td>-10</td>\n",
       "      <td>2</td>\n",
       "      <td>subpage</td>\n",
       "    </tr>\n",
       "    <tr>\n",
       "      <th>7</th>\n",
       "      <td>AAA</td>\n",
       "      <td>2013J</td>\n",
       "      <td>28400</td>\n",
       "      <td>546688</td>\n",
       "      <td>-10</td>\n",
       "      <td>15</td>\n",
       "      <td>oucontent</td>\n",
       "    </tr>\n",
       "    <tr>\n",
       "      <th>8</th>\n",
       "      <td>AAA</td>\n",
       "      <td>2013J</td>\n",
       "      <td>28400</td>\n",
       "      <td>546662</td>\n",
       "      <td>-10</td>\n",
       "      <td>17</td>\n",
       "      <td>oucontent</td>\n",
       "    </tr>\n",
       "    <tr>\n",
       "      <th>9</th>\n",
       "      <td>AAA</td>\n",
       "      <td>2013J</td>\n",
       "      <td>28400</td>\n",
       "      <td>546890</td>\n",
       "      <td>-10</td>\n",
       "      <td>1</td>\n",
       "      <td>url</td>\n",
       "    </tr>\n",
       "  </tbody>\n",
       "</table>\n",
       "</div>"
      ],
      "text/plain": [
       "  code_module code_presentation  id_student  id_site  date  sum_click  \\\n",
       "0         AAA             2013J       28400   546652   -10          4   \n",
       "1         AAA             2013J       28400   546652   -10          1   \n",
       "2         AAA             2013J       28400   546652   -10          1   \n",
       "3         AAA             2013J       28400   546614   -10         11   \n",
       "4         AAA             2013J       28400   546714   -10          1   \n",
       "5         AAA             2013J       28400   546652   -10          8   \n",
       "6         AAA             2013J       28400   546876   -10          2   \n",
       "7         AAA             2013J       28400   546688   -10         15   \n",
       "8         AAA             2013J       28400   546662   -10         17   \n",
       "9         AAA             2013J       28400   546890   -10          1   \n",
       "\n",
       "  activity_type  \n",
       "0       forumng  \n",
       "1       forumng  \n",
       "2       forumng  \n",
       "3      homepage  \n",
       "4     oucontent  \n",
       "5       forumng  \n",
       "6       subpage  \n",
       "7     oucontent  \n",
       "8     oucontent  \n",
       "9           url  "
      ]
     },
     "execution_count": 27,
     "metadata": {},
     "output_type": "execute_result"
    }
   ],
   "source": [
    "## We can see that there are multiple interactions from a single student even before the course started. We can assume\n",
    "## that if student is interested in the course then that student will interact with the material of course before the\n",
    "## course starts\n",
    "\n",
    "## Number of clicks before the course can be an importtant factor which can help us determine whether student will\n",
    "## perform good or bad in the course. Therefore for each student we will calculate the number of clicks before and\n",
    "## after course went live\n",
    "\n",
    "student_vle_merge_vle[(student_vle_merge_vle['id_student']==28400) & (student_vle_merge_vle['date']<0)].head(10)"
   ]
  },
  {
   "cell_type": "code",
   "execution_count": 28,
   "metadata": {},
   "outputs": [],
   "source": [
    "student_vle_merge_vle['Click_Timing'] = ['Before' if date < 0 else 'After' for date in student_vle_merge_vle['date']]"
   ]
  },
  {
   "cell_type": "code",
   "execution_count": 29,
   "metadata": {},
   "outputs": [],
   "source": [
    "# Creating After clicks and Before Clicks columns based on the data\n",
    "\n",
    "student_vle_merge_vle['After_Clicks'] = np.where(student_vle_merge_vle['Click_Timing'] =='After',\n",
    "                                                 student_vle_merge_vle['sum_click'], 0)\n",
    "\n",
    "student_vle_merge_vle['Before_Clicks']= np.where(student_vle_merge_vle['Click_Timing'] =='Before',\n",
    "                                                 student_vle_merge_vle['sum_click'], 0)"
   ]
  },
  {
   "cell_type": "code",
   "execution_count": 30,
   "metadata": {
    "scrolled": true
   },
   "outputs": [],
   "source": [
    "# Create a new dataframe by Grouping the columns\n",
    "\n",
    "student_vle_merge_vle_group = student_vle_merge_vle.groupby(['code_module', \n",
    "                                                             'code_presentation', \n",
    "                                                             'id_student']\n",
    "                                                            ,as_index=False)['sum_click', 'After_Clicks', 'Before_Clicks'].sum()"
   ]
  },
  {
   "cell_type": "code",
   "execution_count": 31,
   "metadata": {},
   "outputs": [
    {
     "data": {
      "text/plain": [
       "code_module          0\n",
       "code_presentation    0\n",
       "id_student           0\n",
       "sum_click            0\n",
       "After_Clicks         0\n",
       "Before_Clicks        0\n",
       "dtype: int64"
      ]
     },
     "execution_count": 31,
     "metadata": {},
     "output_type": "execute_result"
    }
   ],
   "source": [
    "student_vle_merge_vle_group.isnull().sum()"
   ]
  },
  {
   "cell_type": "code",
   "execution_count": 32,
   "metadata": {},
   "outputs": [
    {
     "data": {
      "image/png": "[encoded data removed]",
      "text/plain": [
       "<Figure size 1440x504 with 1 Axes>"
      ]
     },
     "metadata": {},
     "output_type": "display_data"
    }
   ],
   "source": [
    "### Plot describing the way students connect to VLE\n",
    "### We can see that most of the rows in the data are on ForumNG (Open University Forum Platform),\n",
    "### oucontent (Open University Content), subpage and homepage.\n",
    "\n",
    "countplot(90, 0, 15, 12, 'activity_type', student_vle_merge_vle, plot_size=(20, 7))"
   ]
  },
  {
   "cell_type": "code",
   "execution_count": 33,
   "metadata": {},
   "outputs": [
    {
     "data": {
      "text/plain": [
       "<matplotlib.axes._subplots.AxesSubplot at 0x7f8d38df5040>"
      ]
     },
     "execution_count": 33,
     "metadata": {},
     "output_type": "execute_result"
    },
    {
     "data": {
      "image/png": "[encoded data removed]",
      "text/plain": [
       "<Figure size 1080x360 with 1 Axes>"
      ]
     },
     "metadata": {},
     "output_type": "display_data"
    }
   ],
   "source": [
    "# In this step I am plotting average interaction of student with each activity type. \n",
    "# We can see that most of the interactions are with the QUIZ, OUCONTENT, GLOSSARY, OUWIKI which is understandable as \n",
    "# student interact mostly with content to learn stuff and then use glossary to understand the study material. Also,\n",
    "# interactions with quiz is evident as after learning something, there are quizzes on the platform after completing chapters.\n",
    "\n",
    "plt.figure(figsize = (15, 5))\n",
    "plt.xticks(rotation=90, fontsize=15)\n",
    "plt.yticks(rotation=0, fontsize=12)\n",
    "sns.set_style(\"whitegrid\")\n",
    "student_vle_merge_vle.groupby(['activity_type'], as_index=True)['sum_click'].mean().sort_values(ascending=False).plot(kind='bar')\n"
   ]
  },
  {
   "cell_type": "code",
   "execution_count": 34,
   "metadata": {},
   "outputs": [
    {
     "data": {
      "text/html": [
       "<div>\n",
       "<style scoped>\n",
       "    .dataframe tbody tr th:only-of-type {\n",
       "        vertical-align: middle;\n",
       "    }\n",
       "\n",
       "    .dataframe tbody tr th {\n",
       "        vertical-align: top;\n",
       "    }\n",
       "\n",
       "    .dataframe thead th {\n",
       "        text-align: right;\n",
       "    }\n",
       "</style>\n",
       "<table border=\"1\" class=\"dataframe\">\n",
       "  <thead>\n",
       "    <tr style=\"text-align: right;\">\n",
       "      <th></th>\n",
       "      <th>code_module</th>\n",
       "      <th>code_presentation</th>\n",
       "      <th>id_student</th>\n",
       "      <th>id_site</th>\n",
       "      <th>date</th>\n",
       "      <th>sum_click</th>\n",
       "      <th>activity_type</th>\n",
       "      <th>Click_Timing</th>\n",
       "      <th>After_Clicks</th>\n",
       "      <th>Before_Clicks</th>\n",
       "    </tr>\n",
       "  </thead>\n",
       "  <tbody>\n",
       "    <tr>\n",
       "      <th>0</th>\n",
       "      <td>AAA</td>\n",
       "      <td>2013J</td>\n",
       "      <td>28400</td>\n",
       "      <td>546652</td>\n",
       "      <td>-10</td>\n",
       "      <td>4</td>\n",
       "      <td>forumng</td>\n",
       "      <td>Before</td>\n",
       "      <td>0</td>\n",
       "      <td>4</td>\n",
       "    </tr>\n",
       "    <tr>\n",
       "      <th>1</th>\n",
       "      <td>AAA</td>\n",
       "      <td>2013J</td>\n",
       "      <td>28400</td>\n",
       "      <td>546652</td>\n",
       "      <td>-10</td>\n",
       "      <td>1</td>\n",
       "      <td>forumng</td>\n",
       "      <td>Before</td>\n",
       "      <td>0</td>\n",
       "      <td>1</td>\n",
       "    </tr>\n",
       "    <tr>\n",
       "      <th>2</th>\n",
       "      <td>AAA</td>\n",
       "      <td>2013J</td>\n",
       "      <td>28400</td>\n",
       "      <td>546652</td>\n",
       "      <td>-10</td>\n",
       "      <td>1</td>\n",
       "      <td>forumng</td>\n",
       "      <td>Before</td>\n",
       "      <td>0</td>\n",
       "      <td>1</td>\n",
       "    </tr>\n",
       "    <tr>\n",
       "      <th>3</th>\n",
       "      <td>AAA</td>\n",
       "      <td>2013J</td>\n",
       "      <td>28400</td>\n",
       "      <td>546614</td>\n",
       "      <td>-10</td>\n",
       "      <td>11</td>\n",
       "      <td>homepage</td>\n",
       "      <td>Before</td>\n",
       "      <td>0</td>\n",
       "      <td>11</td>\n",
       "    </tr>\n",
       "    <tr>\n",
       "      <th>4</th>\n",
       "      <td>AAA</td>\n",
       "      <td>2013J</td>\n",
       "      <td>28400</td>\n",
       "      <td>546714</td>\n",
       "      <td>-10</td>\n",
       "      <td>1</td>\n",
       "      <td>oucontent</td>\n",
       "      <td>Before</td>\n",
       "      <td>0</td>\n",
       "      <td>1</td>\n",
       "    </tr>\n",
       "  </tbody>\n",
       "</table>\n",
       "</div>"
      ],
      "text/plain": [
       "  code_module code_presentation  id_student  id_site  date  sum_click  \\\n",
       "0         AAA             2013J       28400   546652   -10          4   \n",
       "1         AAA             2013J       28400   546652   -10          1   \n",
       "2         AAA             2013J       28400   546652   -10          1   \n",
       "3         AAA             2013J       28400   546614   -10         11   \n",
       "4         AAA             2013J       28400   546714   -10          1   \n",
       "\n",
       "  activity_type Click_Timing  After_Clicks  Before_Clicks  \n",
       "0       forumng       Before             0              4  \n",
       "1       forumng       Before             0              1  \n",
       "2       forumng       Before             0              1  \n",
       "3      homepage       Before             0             11  \n",
       "4     oucontent       Before             0              1  "
      ]
     },
     "execution_count": 34,
     "metadata": {},
     "output_type": "execute_result"
    }
   ],
   "source": [
    "student_vle_merge_vle.head()"
   ]
  },
  {
   "cell_type": "markdown",
   "metadata": {},
   "source": [
    "###### In this step I will merge studentRegistration table with the courses table to understand the related between registrations and length of course"
   ]
  },
  {
   "cell_type": "code",
   "execution_count": 35,
   "metadata": {},
   "outputs": [],
   "source": [
    "student_registration_merge_courses = oulad_student_registration.merge(oulad_courses, \n",
    "                                                                      on = ['code_module', 'code_presentation'],\n",
    "                                                                      how = 'left')"
   ]
  },
  {
   "cell_type": "code",
   "execution_count": 36,
   "metadata": {},
   "outputs": [],
   "source": [
    "student_registration_merge_courses['Year'] = student_registration_merge_courses['code_presentation'].str[0:4]\n",
    "student_registration_merge_courses['Starting_Month'] = ['February' if code[-1] == 'B' else 'October' \n",
    "                                                        for code in student_registration_merge_courses['code_presentation']]"
   ]
  },
  {
   "cell_type": "code",
   "execution_count": 37,
   "metadata": {},
   "outputs": [
    {
     "data": {
      "text/html": [
       "<div>\n",
       "<style scoped>\n",
       "    .dataframe tbody tr th:only-of-type {\n",
       "        vertical-align: middle;\n",
       "    }\n",
       "\n",
       "    .dataframe tbody tr th {\n",
       "        vertical-align: top;\n",
       "    }\n",
       "\n",
       "    .dataframe thead th {\n",
       "        text-align: right;\n",
       "    }\n",
       "</style>\n",
       "<table border=\"1\" class=\"dataframe\">\n",
       "  <thead>\n",
       "    <tr style=\"text-align: right;\">\n",
       "      <th></th>\n",
       "      <th>code_module</th>\n",
       "      <th>code_presentation</th>\n",
       "      <th>id_student</th>\n",
       "      <th>date_registration</th>\n",
       "      <th>date_unregistration</th>\n",
       "      <th>module_presentation_length</th>\n",
       "      <th>Year</th>\n",
       "      <th>Starting_Month</th>\n",
       "    </tr>\n",
       "  </thead>\n",
       "  <tbody>\n",
       "    <tr>\n",
       "      <th>0</th>\n",
       "      <td>AAA</td>\n",
       "      <td>2013J</td>\n",
       "      <td>11391</td>\n",
       "      <td>159.0</td>\n",
       "      <td>0</td>\n",
       "      <td>268</td>\n",
       "      <td>2013</td>\n",
       "      <td>October</td>\n",
       "    </tr>\n",
       "    <tr>\n",
       "      <th>1</th>\n",
       "      <td>AAA</td>\n",
       "      <td>2013J</td>\n",
       "      <td>28400</td>\n",
       "      <td>53.0</td>\n",
       "      <td>0</td>\n",
       "      <td>268</td>\n",
       "      <td>2013</td>\n",
       "      <td>October</td>\n",
       "    </tr>\n",
       "    <tr>\n",
       "      <th>2</th>\n",
       "      <td>AAA</td>\n",
       "      <td>2013J</td>\n",
       "      <td>30268</td>\n",
       "      <td>92.0</td>\n",
       "      <td>1</td>\n",
       "      <td>268</td>\n",
       "      <td>2013</td>\n",
       "      <td>October</td>\n",
       "    </tr>\n",
       "    <tr>\n",
       "      <th>3</th>\n",
       "      <td>AAA</td>\n",
       "      <td>2013J</td>\n",
       "      <td>31604</td>\n",
       "      <td>52.0</td>\n",
       "      <td>0</td>\n",
       "      <td>268</td>\n",
       "      <td>2013</td>\n",
       "      <td>October</td>\n",
       "    </tr>\n",
       "    <tr>\n",
       "      <th>4</th>\n",
       "      <td>AAA</td>\n",
       "      <td>2013J</td>\n",
       "      <td>32885</td>\n",
       "      <td>176.0</td>\n",
       "      <td>0</td>\n",
       "      <td>268</td>\n",
       "      <td>2013</td>\n",
       "      <td>October</td>\n",
       "    </tr>\n",
       "    <tr>\n",
       "      <th>...</th>\n",
       "      <td>...</td>\n",
       "      <td>...</td>\n",
       "      <td>...</td>\n",
       "      <td>...</td>\n",
       "      <td>...</td>\n",
       "      <td>...</td>\n",
       "      <td>...</td>\n",
       "      <td>...</td>\n",
       "    </tr>\n",
       "    <tr>\n",
       "      <th>32588</th>\n",
       "      <td>GGG</td>\n",
       "      <td>2014J</td>\n",
       "      <td>2640965</td>\n",
       "      <td>4.0</td>\n",
       "      <td>0</td>\n",
       "      <td>269</td>\n",
       "      <td>2014</td>\n",
       "      <td>October</td>\n",
       "    </tr>\n",
       "    <tr>\n",
       "      <th>32589</th>\n",
       "      <td>GGG</td>\n",
       "      <td>2014J</td>\n",
       "      <td>2645731</td>\n",
       "      <td>23.0</td>\n",
       "      <td>0</td>\n",
       "      <td>269</td>\n",
       "      <td>2014</td>\n",
       "      <td>October</td>\n",
       "    </tr>\n",
       "    <tr>\n",
       "      <th>32590</th>\n",
       "      <td>GGG</td>\n",
       "      <td>2014J</td>\n",
       "      <td>2648187</td>\n",
       "      <td>129.0</td>\n",
       "      <td>0</td>\n",
       "      <td>269</td>\n",
       "      <td>2014</td>\n",
       "      <td>October</td>\n",
       "    </tr>\n",
       "    <tr>\n",
       "      <th>32591</th>\n",
       "      <td>GGG</td>\n",
       "      <td>2014J</td>\n",
       "      <td>2679821</td>\n",
       "      <td>49.0</td>\n",
       "      <td>1</td>\n",
       "      <td>269</td>\n",
       "      <td>2014</td>\n",
       "      <td>October</td>\n",
       "    </tr>\n",
       "    <tr>\n",
       "      <th>32592</th>\n",
       "      <td>GGG</td>\n",
       "      <td>2014J</td>\n",
       "      <td>2684003</td>\n",
       "      <td>28.0</td>\n",
       "      <td>0</td>\n",
       "      <td>269</td>\n",
       "      <td>2014</td>\n",
       "      <td>October</td>\n",
       "    </tr>\n",
       "  </tbody>\n",
       "</table>\n",
       "<p>32593 rows × 8 columns</p>\n",
       "</div>"
      ],
      "text/plain": [
       "      code_module code_presentation  id_student  date_registration  \\\n",
       "0             AAA             2013J       11391              159.0   \n",
       "1             AAA             2013J       28400               53.0   \n",
       "2             AAA             2013J       30268               92.0   \n",
       "3             AAA             2013J       31604               52.0   \n",
       "4             AAA             2013J       32885              176.0   \n",
       "...           ...               ...         ...                ...   \n",
       "32588         GGG             2014J     2640965                4.0   \n",
       "32589         GGG             2014J     2645731               23.0   \n",
       "32590         GGG             2014J     2648187              129.0   \n",
       "32591         GGG             2014J     2679821               49.0   \n",
       "32592         GGG             2014J     2684003               28.0   \n",
       "\n",
       "      date_unregistration  module_presentation_length  Year Starting_Month  \n",
       "0                       0                         268  2013        October  \n",
       "1                       0                         268  2013        October  \n",
       "2                       1                         268  2013        October  \n",
       "3                       0                         268  2013        October  \n",
       "4                       0                         268  2013        October  \n",
       "...                   ...                         ...   ...            ...  \n",
       "32588                   0                         269  2014        October  \n",
       "32589                   0                         269  2014        October  \n",
       "32590                   0                         269  2014        October  \n",
       "32591                   1                         269  2014        October  \n",
       "32592                   0                         269  2014        October  \n",
       "\n",
       "[32593 rows x 8 columns]"
      ]
     },
     "execution_count": 37,
     "metadata": {},
     "output_type": "execute_result"
    }
   ],
   "source": [
    "student_registration_merge_courses"
   ]
  },
  {
   "cell_type": "code",
   "execution_count": 38,
   "metadata": {},
   "outputs": [
    {
     "data": {
      "image/png": "[encoded data removed]",
      "text/plain": [
       "<Figure size 576x432 with 1 Axes>"
      ]
     },
     "metadata": {},
     "output_type": "display_data"
    }
   ],
   "source": [
    "# We can clearly see from the below plot that mMore registrations are in the month of October as compared to the month\n",
    "# of February. Also there are more people who drawn in the month of October.\n",
    "\n",
    "countplot(90, 0, 14, 10, 'Starting_Month', student_registration_merge_courses, plot_size=(8, 6), hue=True, hue_column_name='date_unregistration')\n"
   ]
  },
  {
   "cell_type": "code",
   "execution_count": 39,
   "metadata": {},
   "outputs": [
    {
     "data": {
      "image/png": "[encoded data removed]",
      "text/plain": [
       "<Figure size 360x360 with 1 Axes>"
      ]
     },
     "metadata": {},
     "output_type": "display_data"
    }
   ],
   "source": [
    "### This plot shows us that there are more registrations in 2014 as compared to 2013\n",
    "\n",
    "countplot(90, 0, 14, 10, 'Year', student_registration_merge_courses, plot_size=(5, 5))"
   ]
  },
  {
   "cell_type": "code",
   "execution_count": 40,
   "metadata": {},
   "outputs": [
    {
     "data": {
      "image/png": "[encoded data removed]",
      "text/plain": [
       "<Figure size 576x432 with 1 Axes>"
      ]
     },
     "metadata": {},
     "output_type": "display_data"
    }
   ],
   "source": [
    "# This plot shows us the count by year and then by data unregistration count\n",
    "\n",
    "countplot(90, 0, 14, 10, 'Year', student_registration_merge_courses, plot_size=(8, 6), hue=True, hue_column_name='date_unregistration')\n",
    "\n"
   ]
  },
  {
   "cell_type": "code",
   "execution_count": 41,
   "metadata": {},
   "outputs": [
    {
     "data": {
      "text/html": [
       "<div>\n",
       "<style scoped>\n",
       "    .dataframe tbody tr th:only-of-type {\n",
       "        vertical-align: middle;\n",
       "    }\n",
       "\n",
       "    .dataframe tbody tr th {\n",
       "        vertical-align: top;\n",
       "    }\n",
       "\n",
       "    .dataframe thead th {\n",
       "        text-align: right;\n",
       "    }\n",
       "</style>\n",
       "<table border=\"1\" class=\"dataframe\">\n",
       "  <thead>\n",
       "    <tr style=\"text-align: right;\">\n",
       "      <th></th>\n",
       "      <th>date_unregistration</th>\n",
       "      <th>module_presentation_length</th>\n",
       "    </tr>\n",
       "  </thead>\n",
       "  <tbody>\n",
       "    <tr>\n",
       "      <th>0</th>\n",
       "      <td>0</td>\n",
       "      <td>256.095378</td>\n",
       "    </tr>\n",
       "    <tr>\n",
       "      <th>1</th>\n",
       "      <td>1</td>\n",
       "      <td>255.819500</td>\n",
       "    </tr>\n",
       "  </tbody>\n",
       "</table>\n",
       "</div>"
      ],
      "text/plain": [
       "  date_unregistration  module_presentation_length\n",
       "0                   0                  256.095378\n",
       "1                   1                  255.819500"
      ]
     },
     "execution_count": 41,
     "metadata": {},
     "output_type": "execute_result"
    }
   ],
   "source": [
    "### From the below table we can see that course length doesn't have much difference for the student who withdrawn\n",
    "### and students who completed the course\n",
    "\n",
    "student_registration_merge_courses.groupby('date_unregistration', as_index=False)['module_presentation_length'].mean()"
   ]
  },
  {
   "cell_type": "markdown",
   "metadata": {},
   "source": [
    "###### In this step I will merge assessments Table with the studentAssessment Table to understand the relationship between assessment and student performance"
   ]
  },
  {
   "cell_type": "code",
   "execution_count": 42,
   "metadata": {},
   "outputs": [],
   "source": [
    "student_assessment_merge_assessment = oulad_student_assessment.merge(oulad_assessment,\n",
    "                                                                     on = ['id_assessment'], how='left' )"
   ]
  },
  {
   "cell_type": "code",
   "execution_count": 43,
   "metadata": {},
   "outputs": [
    {
     "data": {
      "text/plain": [
       "id_assessment          int64\n",
       "id_student             int64\n",
       "date_submitted         int64\n",
       "is_banked              int64\n",
       "score                 object\n",
       "code_module           object\n",
       "code_presentation     object\n",
       "assessment_type       object\n",
       "date                  object\n",
       "weight               float64\n",
       "dtype: object"
      ]
     },
     "execution_count": 43,
     "metadata": {},
     "output_type": "execute_result"
    }
   ],
   "source": [
    "student_assessment_merge_assessment.dtypes"
   ]
  },
  {
   "cell_type": "code",
   "execution_count": 44,
   "metadata": {},
   "outputs": [],
   "source": [
    "# There would have been instances where students submitted their assignments later than the deadline. In this step,\n",
    "# using the date_submitted (days after student recieved their assignment) column and date (deadline in days for the assignment)\n",
    "# we can check whether their was a late submission or not (0 : Late, 1:OnTime)\n",
    "\n",
    "student_assessment_merge_assessment['Late_submission'] = ['0' if int(student_assessment_merge_assessment['date_submitted'].iloc[i]) \n",
    "                                                          > int(student_assessment_merge_assessment['date'].iloc[i]) else '1' \n",
    "                                                         for i in range(len(student_assessment_merge_assessment))]\n"
   ]
  },
  {
   "cell_type": "code",
   "execution_count": 45,
   "metadata": {},
   "outputs": [
    {
     "name": "stdout",
     "output_type": "stream",
     "text": [
      "Percentage of Late Submissions From Students are : \n",
      "29.958155624240963\n",
      "We can see that approximately 30 percent of students submitted their assigments late\n"
     ]
    }
   ],
   "source": [
    "print('Percentage of Late Submissions From Students are : ')\n",
    "print((len(student_assessment_merge_assessment[student_assessment_merge_assessment['Late_submission']=='0'])/len(student_assessment_merge_assessment)*100))\n",
    "print('We can see that approximately 30 percent of students submitted their assigments late')"
   ]
  },
  {
   "cell_type": "code",
   "execution_count": 46,
   "metadata": {},
   "outputs": [
    {
     "name": "stdout",
     "output_type": "stream",
     "text": [
      "Late_submission          0          1\n",
      "assessment_type                      \n",
      "CMA              46.777830  53.222170\n",
      "Exam             57.914902  42.085098\n",
      "TMA              16.473797  83.526203\n"
     ]
    },
    {
     "data": {
      "image/png": "[encoded data removed]",
      "text/plain": [
       "<Figure size 720x504 with 1 Axes>"
      ]
     },
     "metadata": {},
     "output_type": "display_data"
    }
   ],
   "source": [
    "# There are three types of assessments :- Tutor Marked Assessment (TMA), Computer Marked Assessment (CMA), Exams\n",
    "# Following Plot Shows us the Percentage of Late Submission by Assessment_Type\n",
    "# We can see that Most of the late submissions are for Final Exam and CMA which is Computer marked exam.\n",
    "# Tutor marked exams has the least late submissions\n",
    "\n",
    "stacked_plot(student_assessment_merge_assessment, 'assessment_type', 'Late_submission', 'id_student', plot_size=(10, 7))\n",
    "\n"
   ]
  },
  {
   "cell_type": "code",
   "execution_count": 47,
   "metadata": {},
   "outputs": [
    {
     "name": "stdout",
     "output_type": "stream",
     "text": [
      "Late_submission          0          1\n",
      "code_module                          \n",
      "AAA              25.810553  74.189447\n",
      "BBB              47.472021  52.527979\n",
      "CCC              69.063342  30.936658\n",
      "DDD              30.566283  69.433717\n",
      "EEE              14.544763  85.455237\n",
      "FFF              10.345268  89.654732\n",
      "GGG              10.049293  89.950707\n"
     ]
    },
    {
     "data": {
      "image/png": "[encoded data removed]",
      "text/plain": [
       "<Figure size 864x576 with 1 Axes>"
      ]
     },
     "metadata": {},
     "output_type": "display_data"
    }
   ],
   "source": [
    "# There are 7 course modules. 4 are from STEM and 3 from Social Sciences\n",
    "# Social Sciences :- AAA, BBB, GGG\n",
    "# STEM :- CCC, DDD, EEE, FFF\n",
    "# We can see from the plot that most percentage of the late submissions are for Course BBB, CCC and DDD\n",
    "\n",
    "\n",
    "stacked_plot(student_assessment_merge_assessment, 'code_module', 'Late_submission', 'id_student', plot_size=(12, 8))"
   ]
  },
  {
   "cell_type": "code",
   "execution_count": 48,
   "metadata": {},
   "outputs": [],
   "source": [
    "## Creating a column for Social Science and STEM field\n",
    "\n",
    "student_assessment_merge_assessment['Code_Category'] = ['Social_Science' if student_assessment_merge_assessment['code_module'].iloc[i] in ['AAA', 'BBB', 'GGG']\n",
    "                                                        else 'STEM' for i in range(len(student_assessment_merge_assessment))]\n"
   ]
  },
  {
   "cell_type": "code",
   "execution_count": 49,
   "metadata": {},
   "outputs": [
    {
     "name": "stdout",
     "output_type": "stream",
     "text": [
      "Late_submission          0          1\n",
      "Code_Category                        \n",
      "STEM             26.072296  73.927704\n",
      "Social_Science   37.078578  62.921422\n"
     ]
    },
    {
     "data": {
      "image/png": "[encoded data removed]",
      "text/plain": [
       "<Figure size 576x504 with 1 Axes>"
      ]
     },
     "metadata": {},
     "output_type": "display_data"
    }
   ],
   "source": [
    "## Social Science has more percentage of late submissions as compared to STEM\n",
    "\n",
    "\n",
    "stacked_plot(student_assessment_merge_assessment, 'Code_Category', 'Late_submission', 'id_student', plot_size=(8, 7))"
   ]
  },
  {
   "cell_type": "code",
   "execution_count": 50,
   "metadata": {},
   "outputs": [],
   "source": [
    "# As from the description of table we know that score less than 40 is considered as Fail and above that is pass\n",
    "\n",
    "\n",
    "student_assessment_merge_assessment['Result'] = ['Fail' if int(student_assessment_merge_assessment['score'].iloc[i]) < 40\n",
    "                                                        else 'Pass' for i in range(len(student_assessment_merge_assessment))]"
   ]
  },
  {
   "cell_type": "code",
   "execution_count": 51,
   "metadata": {},
   "outputs": [
    {
     "name": "stdout",
     "output_type": "stream",
     "text": [
      "Result              Fail       Pass\n",
      "Code_Category                      \n",
      "STEM            5.132608  94.867392\n",
      "Social_Science  2.949136  97.050864\n"
     ]
    },
    {
     "data": {
      "image/png": "[encoded data removed]",
      "text/plain": [
       "<Figure size 720x504 with 1 Axes>"
      ]
     },
     "metadata": {},
     "output_type": "display_data"
    }
   ],
   "source": [
    "# Following Plot shows us the Ratio of Pass and Fail students in the form of plot\n",
    "# Failure Rate in STEM is more as compared to Social Sciences\n",
    "\n",
    "stacked_plot(student_assessment_merge_assessment, 'Code_Category', 'Result', 'id_student', plot_size=(10, 7))"
   ]
  },
  {
   "cell_type": "code",
   "execution_count": 52,
   "metadata": {},
   "outputs": [
    {
     "name": "stdout",
     "output_type": "stream",
     "text": [
      "Result           Fail       Pass\n",
      "code_module                     \n",
      "AAA          2.860776  97.139224\n",
      "BBB          3.306266  96.693734\n",
      "CCC          9.297903  90.702097\n",
      "DDD          9.044297  90.955703\n",
      "EEE          1.775298  98.224702\n",
      "FFF          1.975570  98.024430\n",
      "GGG          1.958593  98.041407\n"
     ]
    },
    {
     "data": {
      "image/png": "[encoded data removed]",
      "text/plain": [
       "<Figure size 1080x576 with 1 Axes>"
      ]
     },
     "metadata": {},
     "output_type": "display_data"
    }
   ],
   "source": [
    "# We can see from the following plot that course DDD , CCC and BBB have the most failure rate. Out of the 3\n",
    "# courses 2 of them are from STEM.\n",
    "\n",
    "\n",
    "stacked_plot(student_assessment_merge_assessment, 'code_module', 'Result', 'id_student', plot_size=(15, 8))"
   ]
  },
  {
   "cell_type": "code",
   "execution_count": 53,
   "metadata": {},
   "outputs": [
    {
     "name": "stdout",
     "output_type": "stream",
     "text": [
      "[ 10.   20.   30.    5.   18.    1.    0.   35.    9.   22.    2.    7.\n",
      "   8.  100.    7.5  12.5  15.    3.    4.    6.   17.5  25.   16.   28. ]\n"
     ]
    }
   ],
   "source": [
    "## Weightage of Assignment can have impact on the submissions and Result of students. I categorized the weight into\n",
    "## Low, Medium and High Weightage.\n",
    "\n",
    "print(student_assessment_merge_assessment['weight'].unique())\n",
    "\n",
    "percentage_segment = []\n",
    "\n",
    "for percent in student_assessment_merge_assessment['weight']:\n",
    "    if percent <= 10:\n",
    "        percentage_segment.append('Low_Weightage')\n",
    "    elif percent > 10 and percent <= 30:\n",
    "        percentage_segment.append('Medium_Weightage')\n",
    "    else:\n",
    "        percentage_segment.append('High_Weightage')\n",
    "        \n",
    "student_assessment_merge_assessment['Weigthage'] = percentage_segment"
   ]
  },
  {
   "cell_type": "code",
   "execution_count": 54,
   "metadata": {},
   "outputs": [
    {
     "name": "stdout",
     "output_type": "stream",
     "text": [
      "Result                Fail       Pass\n",
      "Weigthage                            \n",
      "High_Weightage    8.463783  91.536217\n",
      "Low_Weightage     3.329021  96.670979\n",
      "Medium_Weightage  5.307333  94.692667\n"
     ]
    },
    {
     "data": {
      "image/png": "[encoded data removed]",
      "text/plain": [
       "<Figure size 576x432 with 1 Axes>"
      ]
     },
     "metadata": {},
     "output_type": "display_data"
    }
   ],
   "source": [
    "# We can see that Medium and High Weightage Assessments have high failure rate as compared to low\n",
    "\n",
    "stacked_plot(student_assessment_merge_assessment, 'Weigthage', 'Result', 'id_student', plot_size=(8, 6))"
   ]
  },
  {
   "cell_type": "code",
   "execution_count": 55,
   "metadata": {},
   "outputs": [
    {
     "name": "stdout",
     "output_type": "stream",
     "text": [
      "Result               Fail       Pass\n",
      "Late_submission                     \n",
      "0                6.841630  93.158370\n",
      "1                3.301011  96.698989\n"
     ]
    },
    {
     "data": {
      "image/png": "[encoded data removed]",
      "text/plain": [
       "<Figure size 576x432 with 1 Axes>"
      ]
     },
     "metadata": {},
     "output_type": "display_data"
    }
   ],
   "source": [
    "# Following Plot shows the ratio of Pass and Fail in Late_submission.\n",
    "# We can clearly see that Late Submissions have more Failure Rate as compared to people who submit on time.\n",
    "\n",
    "stacked_plot(student_assessment_merge_assessment, 'Late_submission', 'Result', 'id_student', plot_size=(8, 6))"
   ]
  },
  {
   "cell_type": "code",
   "execution_count": 56,
   "metadata": {},
   "outputs": [
    {
     "data": {
      "text/html": [
       "<div>\n",
       "<style scoped>\n",
       "    .dataframe tbody tr th:only-of-type {\n",
       "        vertical-align: middle;\n",
       "    }\n",
       "\n",
       "    .dataframe tbody tr th {\n",
       "        vertical-align: top;\n",
       "    }\n",
       "\n",
       "    .dataframe thead th {\n",
       "        text-align: right;\n",
       "    }\n",
       "</style>\n",
       "<table border=\"1\" class=\"dataframe\">\n",
       "  <thead>\n",
       "    <tr style=\"text-align: right;\">\n",
       "      <th></th>\n",
       "      <th>id_assessment</th>\n",
       "      <th>id_student</th>\n",
       "      <th>date_submitted</th>\n",
       "      <th>is_banked</th>\n",
       "      <th>score</th>\n",
       "      <th>code_module</th>\n",
       "      <th>code_presentation</th>\n",
       "      <th>assessment_type</th>\n",
       "      <th>date</th>\n",
       "      <th>weight</th>\n",
       "      <th>Late_submission</th>\n",
       "      <th>Code_Category</th>\n",
       "      <th>Result</th>\n",
       "      <th>Weigthage</th>\n",
       "    </tr>\n",
       "  </thead>\n",
       "  <tbody>\n",
       "    <tr>\n",
       "      <th>0</th>\n",
       "      <td>1752</td>\n",
       "      <td>11391</td>\n",
       "      <td>18</td>\n",
       "      <td>0</td>\n",
       "      <td>78</td>\n",
       "      <td>AAA</td>\n",
       "      <td>2013J</td>\n",
       "      <td>TMA</td>\n",
       "      <td>19</td>\n",
       "      <td>10.0</td>\n",
       "      <td>1</td>\n",
       "      <td>Social_Science</td>\n",
       "      <td>Pass</td>\n",
       "      <td>Low_Weightage</td>\n",
       "    </tr>\n",
       "    <tr>\n",
       "      <th>1</th>\n",
       "      <td>1752</td>\n",
       "      <td>28400</td>\n",
       "      <td>22</td>\n",
       "      <td>0</td>\n",
       "      <td>70</td>\n",
       "      <td>AAA</td>\n",
       "      <td>2013J</td>\n",
       "      <td>TMA</td>\n",
       "      <td>19</td>\n",
       "      <td>10.0</td>\n",
       "      <td>0</td>\n",
       "      <td>Social_Science</td>\n",
       "      <td>Pass</td>\n",
       "      <td>Low_Weightage</td>\n",
       "    </tr>\n",
       "    <tr>\n",
       "      <th>2</th>\n",
       "      <td>1752</td>\n",
       "      <td>31604</td>\n",
       "      <td>17</td>\n",
       "      <td>0</td>\n",
       "      <td>72</td>\n",
       "      <td>AAA</td>\n",
       "      <td>2013J</td>\n",
       "      <td>TMA</td>\n",
       "      <td>19</td>\n",
       "      <td>10.0</td>\n",
       "      <td>1</td>\n",
       "      <td>Social_Science</td>\n",
       "      <td>Pass</td>\n",
       "      <td>Low_Weightage</td>\n",
       "    </tr>\n",
       "    <tr>\n",
       "      <th>3</th>\n",
       "      <td>1752</td>\n",
       "      <td>32885</td>\n",
       "      <td>26</td>\n",
       "      <td>0</td>\n",
       "      <td>69</td>\n",
       "      <td>AAA</td>\n",
       "      <td>2013J</td>\n",
       "      <td>TMA</td>\n",
       "      <td>19</td>\n",
       "      <td>10.0</td>\n",
       "      <td>0</td>\n",
       "      <td>Social_Science</td>\n",
       "      <td>Pass</td>\n",
       "      <td>Low_Weightage</td>\n",
       "    </tr>\n",
       "    <tr>\n",
       "      <th>4</th>\n",
       "      <td>1752</td>\n",
       "      <td>38053</td>\n",
       "      <td>19</td>\n",
       "      <td>0</td>\n",
       "      <td>79</td>\n",
       "      <td>AAA</td>\n",
       "      <td>2013J</td>\n",
       "      <td>TMA</td>\n",
       "      <td>19</td>\n",
       "      <td>10.0</td>\n",
       "      <td>1</td>\n",
       "      <td>Social_Science</td>\n",
       "      <td>Pass</td>\n",
       "      <td>Low_Weightage</td>\n",
       "    </tr>\n",
       "  </tbody>\n",
       "</table>\n",
       "</div>"
      ],
      "text/plain": [
       "   id_assessment  id_student  date_submitted  is_banked score code_module  \\\n",
       "0           1752       11391              18          0    78         AAA   \n",
       "1           1752       28400              22          0    70         AAA   \n",
       "2           1752       31604              17          0    72         AAA   \n",
       "3           1752       32885              26          0    69         AAA   \n",
       "4           1752       38053              19          0    79         AAA   \n",
       "\n",
       "  code_presentation assessment_type date  weight Late_submission  \\\n",
       "0             2013J             TMA   19    10.0               1   \n",
       "1             2013J             TMA   19    10.0               0   \n",
       "2             2013J             TMA   19    10.0               1   \n",
       "3             2013J             TMA   19    10.0               0   \n",
       "4             2013J             TMA   19    10.0               1   \n",
       "\n",
       "    Code_Category Result      Weigthage  \n",
       "0  Social_Science   Pass  Low_Weightage  \n",
       "1  Social_Science   Pass  Low_Weightage  \n",
       "2  Social_Science   Pass  Low_Weightage  \n",
       "3  Social_Science   Pass  Low_Weightage  \n",
       "4  Social_Science   Pass  Low_Weightage  "
      ]
     },
     "execution_count": 56,
     "metadata": {},
     "output_type": "execute_result"
    }
   ],
   "source": [
    "student_assessment_merge_assessment.head()"
   ]
  },
  {
   "cell_type": "markdown",
   "metadata": {},
   "source": [
    "###### MERGING VLE DATA WITH THE STUDENT INFO DATA"
   ]
  },
  {
   "cell_type": "code",
   "execution_count": 57,
   "metadata": {
    "scrolled": true
   },
   "outputs": [],
   "source": [
    "student_info = oulad_student_info.merge(student_vle_merge_vle_group, \n",
    "                                        on = ['code_module', 'code_presentation', 'id_student'],\n",
    "                                        how = 'left')\n",
    "\n",
    "student_info['sum_click']     = student_info['sum_click'].fillna(student_info['sum_click'].mean())\n",
    "student_info['After_Clicks']  = student_info['After_Clicks'].fillna(student_info['After_Clicks'].mean())\n",
    "student_info['Before_Clicks'] = student_info['Before_Clicks'].fillna(student_info['Before_Clicks'].mean())"
   ]
  },
  {
   "cell_type": "code",
   "execution_count": 58,
   "metadata": {},
   "outputs": [
    {
     "data": {
      "text/plain": [
       "<matplotlib.axes._subplots.AxesSubplot at 0x7f8d39022790>"
      ]
     },
     "execution_count": 58,
     "metadata": {},
     "output_type": "execute_result"
    },
    {
     "data": {
      "image/png": "[encoded data removed]",
      "text/plain": [
       "<Figure size 720x360 with 1 Axes>"
      ]
     },
     "metadata": {},
     "output_type": "display_data"
    }
   ],
   "source": [
    "## In this plot I am trying to examine the relationship between number of clicks versus the result\n",
    "## We can clearly see from the plot that number of clicks is directly related to the result. Student who passed with\n",
    "## Distinction has significantly more clicks as compared to ones with result = PASS and there is a huge difference\n",
    "## between the students who failed or withdrawn as compared to the one's who passed with or without distinction\n",
    "\n",
    "plt.figure(figsize = (10, 5))\n",
    "plt.xticks(rotation=90, fontsize=15)\n",
    "plt.yticks(rotation=0, fontsize=12)\n",
    "sns.set_style(\"whitegrid\")\n",
    "student_info.groupby(['final_result'])['After_Clicks'].mean().sort_values(ascending = False).plot(kind='bar')"
   ]
  },
  {
   "cell_type": "code",
   "execution_count": 59,
   "metadata": {},
   "outputs": [
    {
     "data": {
      "text/plain": [
       "<matplotlib.axes._subplots.AxesSubplot at 0x7f8d285ef250>"
      ]
     },
     "execution_count": 59,
     "metadata": {},
     "output_type": "execute_result"
    },
    {
     "data": {
      "image/png": "[encoded data removed]",
      "text/plain": [
       "<Figure size 720x360 with 1 Axes>"
      ]
     },
     "metadata": {},
     "output_type": "display_data"
    }
   ],
   "source": [
    "## Even from the clicks data before the course even started, we can see that more the clicks more are the chances\n",
    "## for student to pass.\n",
    "\n",
    "plt.figure(figsize = (10, 5))\n",
    "plt.xticks(rotation=90, fontsize=15)\n",
    "plt.yticks(rotation=0, fontsize=12)\n",
    "sns.set_style(\"whitegrid\")\n",
    "student_info.groupby(['final_result'])['Before_Clicks'].mean().sort_values(ascending = False).plot(kind='bar')"
   ]
  },
  {
   "cell_type": "code",
   "execution_count": 60,
   "metadata": {},
   "outputs": [
    {
     "data": {
      "text/plain": [
       "<matplotlib.axes._subplots.AxesSubplot at 0x7f8d287b78b0>"
      ]
     },
     "execution_count": 60,
     "metadata": {},
     "output_type": "execute_result"
    },
    {
     "data": {
      "image/png": "[encoded data removed]",
      "text/plain": [
       "<Figure size 720x360 with 1 Axes>"
      ]
     },
     "metadata": {},
     "output_type": "display_data"
    }
   ],
   "source": [
    "## People with less credits have more chances to pass with distinction or pass because they have to study less\n",
    "## People who withdrew has more average credits as compared to another. \n",
    "\n",
    "plt.figure(figsize = (10, 5))\n",
    "plt.xticks(rotation=90, fontsize=15)\n",
    "plt.yticks(rotation=0, fontsize=12)\n",
    "sns.set_style(\"whitegrid\")\n",
    "student_info.groupby(['final_result'])['studied_credits'].mean().sort_values(ascending = False).plot(kind='bar')"
   ]
  },
  {
   "cell_type": "code",
   "execution_count": 61,
   "metadata": {},
   "outputs": [
    {
     "data": {
      "text/plain": [
       "<matplotlib.axes._subplots.AxesSubplot at 0x7f8d28a86a90>"
      ]
     },
     "execution_count": 61,
     "metadata": {},
     "output_type": "execute_result"
    },
    {
     "data": {
      "image/png": "[encoded data removed]",
      "text/plain": [
       "<Figure size 720x360 with 1 Axes>"
      ]
     },
     "metadata": {},
     "output_type": "display_data"
    }
   ],
   "source": [
    "plt.figure(figsize = (10, 5))\n",
    "plt.xticks(rotation=90, fontsize=15)\n",
    "plt.yticks(rotation=0, fontsize=12)\n",
    "sns.set_style(\"whitegrid\")\n",
    "student_info.groupby(['age_band'])['Before_Clicks'].mean().sort_values(ascending = False).plot(kind='bar')"
   ]
  },
  {
   "cell_type": "code",
   "execution_count": 62,
   "metadata": {},
   "outputs": [
    {
     "data": {
      "text/plain": [
       "<matplotlib.axes._subplots.AxesSubplot at 0x7f8d28a777f0>"
      ]
     },
     "execution_count": 62,
     "metadata": {},
     "output_type": "execute_result"
    },
    {
     "data": {
      "image/png": "[encoded data removed]",
      "text/plain": [
       "<Figure size 720x360 with 1 Axes>"
      ]
     },
     "metadata": {},
     "output_type": "display_data"
    }
   ],
   "source": [
    "# Number of Clicks by imd_band.\n",
    "\n",
    "plt.figure(figsize = (10, 5))\n",
    "plt.xticks(rotation=90, fontsize=15)\n",
    "plt.yticks(rotation=0, fontsize=12)\n",
    "sns.set_style(\"whitegrid\")\n",
    "student_info.groupby(['imd_band'])['sum_click'].sum().sort_values(ascending = False).plot(kind='bar')"
   ]
  },
  {
   "cell_type": "code",
   "execution_count": 63,
   "metadata": {},
   "outputs": [
    {
     "data": {
      "text/plain": [
       "<matplotlib.axes._subplots.AxesSubplot at 0x7f8d39288c40>"
      ]
     },
     "execution_count": 63,
     "metadata": {},
     "output_type": "execute_result"
    },
    {
     "data": {
      "image/png": "[encoded data removed]",
      "text/plain": [
       "<Figure size 576x360 with 1 Axes>"
      ]
     },
     "metadata": {},
     "output_type": "display_data"
    }
   ],
   "source": [
    "# We can see that Males have higher Click Rate as compared to the females\n",
    "\n",
    "plt.figure(figsize = (8, 5))\n",
    "plt.xticks(rotation=90, fontsize=15)\n",
    "plt.yticks(rotation=0, fontsize=12)\n",
    "sns.set_style(\"whitegrid\")\n",
    "student_info.groupby(['gender'])['sum_click'].sum().sort_values(ascending = False).plot(kind='bar')"
   ]
  },
  {
   "cell_type": "code",
   "execution_count": 64,
   "metadata": {},
   "outputs": [
    {
     "name": "stdout",
     "output_type": "stream",
     "text": [
      "age_band  final_result\n",
      "0-35      Pass            8469\n",
      "          Withdrawn       7381\n",
      "          Fail            5231\n",
      "35-55     Pass            3800\n",
      "          Withdrawn       2721\n",
      "0-35      Distinction     1863\n",
      "35-55     Fail            1792\n",
      "          Distinction     1120\n",
      "55<=      Pass              92\n",
      "          Withdrawn         54\n",
      "          Distinction       41\n",
      "          Fail              29\n",
      "Name: id_student, dtype: int64\n",
      "final_result  Distinction       Fail       Pass  Withdrawn\n",
      "age_band                                                  \n",
      "0-35             8.119770  22.798989  36.911611  32.169630\n",
      "35-55           11.873211  18.997138  40.284109  28.845542\n",
      "55<=            18.981481  13.425926  42.592593  25.000000\n"
     ]
    },
    {
     "data": {
      "image/png": "[encoded data removed]",
      "text/plain": [
       "<Figure size 720x576 with 1 Axes>"
      ]
     },
     "metadata": {},
     "output_type": "display_data"
    }
   ],
   "source": [
    "## Following plot shows us the number of students in each result category. Most of the data is in age band 0-55.\n",
    "## There are very few data points for age >= 55. \n",
    "## We can see that Failure and Withdrawn rate is greater in age_band 0-35\n",
    "\n",
    "print(student_info.groupby(['age_band', 'final_result'])['id_student'].count().sort_values(ascending = False))\n",
    "stacked_plot(student_info, 'age_band', 'final_result', 'id_student', plot_size=(10, 8))"
   ]
  },
  {
   "cell_type": "code",
   "execution_count": 65,
   "metadata": {},
   "outputs": [
    {
     "name": "stdout",
     "output_type": "stream",
     "text": [
      "final_result                 Distinction       Fail       Pass  Withdrawn\n",
      "highest_education                                                        \n",
      "A Level or Equivalent          10.651477  19.273763  41.381274  28.693485\n",
      "HE Qualification               14.735729  16.701903  41.437632  27.124736\n",
      "Lower Than A Level              5.525156  26.037392  33.325733  35.111719\n",
      "No Formal quals                 4.610951  27.377522  25.072046  42.939481\n",
      "Post Graduate Qualification    28.115016  10.862620  37.380192  23.642173\n"
     ]
    },
    {
     "data": {
      "image/png": "[encoded data removed]",
      "text/plain": [
       "<Figure size 720x576 with 1 Axes>"
      ]
     },
     "metadata": {},
     "output_type": "display_data"
    }
   ],
   "source": [
    "# We can see from the plot that Failure Rate and Withdrawal Rate is high in people who have NO FORMAL EDUCATION\n",
    "# and who have LOWER THAN A LEVEL EDUCATION\n",
    "# Failure Rate is lowest in people who has Post Graduation.\n",
    "\n",
    "\n",
    "stacked_plot(student_info, 'highest_education', 'final_result', 'id_student', plot_size=(10, 8))"
   ]
  },
  {
   "cell_type": "code",
   "execution_count": 66,
   "metadata": {},
   "outputs": [
    {
     "data": {
      "image/png": "[encoded data removed]",
      "text/plain": [
       "<Figure size 720x360 with 1 Axes>"
      ]
     },
     "metadata": {},
     "output_type": "display_data"
    }
   ],
   "source": [
    "## We can see from the plot that most of the data is for people who have a level or lower level of education.\n",
    "## This will cause an imbalance when the feature is used in the model. So I will manipulate the feature and \n",
    "## create two categories. One with higher education and one with lower education.\n",
    "\n",
    "countplot(90, 0, 12, 10, 'highest_education', student_info)"
   ]
  },
  {
   "cell_type": "code",
   "execution_count": 67,
   "metadata": {},
   "outputs": [
    {
     "data": {
      "text/plain": [
       "array(['HE Qualification', 'A Level or Equivalent', 'Lower Than A Level',\n",
       "       'Post Graduate Qualification', 'No Formal quals'], dtype=object)"
      ]
     },
     "execution_count": 67,
     "metadata": {},
     "output_type": "execute_result"
    }
   ],
   "source": [
    "student_info['highest_education'].unique()"
   ]
  },
  {
   "cell_type": "code",
   "execution_count": 68,
   "metadata": {},
   "outputs": [],
   "source": [
    "## Manioulating the feature higher_education\n",
    "\n",
    "student_info['highest_education'] = [0 if education in ['A Level or Equivalent', 'Lower Than A Level', 'No Formal quals']\n",
    "                                    else 1 for education in student_info['highest_education']]\n"
   ]
  },
  {
   "cell_type": "code",
   "execution_count": 69,
   "metadata": {},
   "outputs": [
    {
     "data": {
      "image/png": "[encoded data removed]",
      "text/plain": [
       "<Figure size 504x432 with 1 Axes>"
      ]
     },
     "metadata": {},
     "output_type": "display_data"
    }
   ],
   "source": [
    "countplot(90, 0, 12, 10, 'highest_education', student_info, plot_size=(7, 6))"
   ]
  },
  {
   "cell_type": "code",
   "execution_count": 70,
   "metadata": {},
   "outputs": [
    {
     "name": "stdout",
     "output_type": "stream",
     "text": [
      "final_result       Distinction       Fail       Pass  Withdrawn\n",
      "highest_education                                              \n",
      "0                     8.127042  22.606171  37.328494  31.938294\n",
      "1                    15.566131  16.339480  41.185802  26.908586\n"
     ]
    },
    {
     "data": {
      "image/png": "[encoded data removed]",
      "text/plain": [
       "<Figure size 720x576 with 1 Axes>"
      ]
     },
     "metadata": {},
     "output_type": "display_data"
    }
   ],
   "source": [
    "## We can see from the plot that students with lower education has higher failure rate than the ones who had higher education\n",
    "\n",
    "stacked_plot(student_info, 'highest_education', 'final_result', 'id_student', plot_size=(10, 8))"
   ]
  },
  {
   "cell_type": "code",
   "execution_count": 71,
   "metadata": {
    "scrolled": false
   },
   "outputs": [
    {
     "name": "stdout",
     "output_type": "stream",
     "text": [
      "final_result          Distinction       Fail       Pass  Withdrawn\n",
      "region                                                            \n",
      "East Anglian Region      9.790419  20.898204  39.191617  30.119760\n",
      "East Midlands Region     8.456660  19.534884  37.251586  34.756871\n",
      "Ireland                  8.277027  22.043919  46.621622  23.057432\n",
      "London Region            8.177861  23.134328  34.172886  34.514925\n",
      "North Region            12.616566  17.937466  37.904553  31.541415\n",
      "North Western Region     7.329663  24.225740  32.863042  35.581555\n",
      "Scotland                 9.518282  24.724318  39.437028  26.320371\n",
      "South East Region       11.558503  17.764093  39.933681  30.743723\n",
      "South Region            10.769728  17.593790  41.623545  30.012937\n",
      "South West Region       10.837438  19.088670  38.957307  31.116585\n",
      "Wales                    8.485139  29.721956  36.673058  25.119847\n",
      "West Midlands Region     7.048799  21.340046  36.250968  35.360186\n",
      "Yorkshire Region         8.225324  22.382851  36.640080  32.751745\n"
     ]
    },
    {
     "data": {
      "image/png": "[encoded data removed]",
      "text/plain": [
       "<Figure size 1080x576 with 1 Axes>"
      ]
     },
     "metadata": {},
     "output_type": "display_data"
    }
   ],
   "source": [
    "## We can see that Failure Rate and Withdrawal rate is similar in all the regions.\n",
    "\n",
    "stacked_plot(student_info, 'region', 'final_result', 'id_student', plot_size=(15, 8))"
   ]
  },
  {
   "cell_type": "code",
   "execution_count": 72,
   "metadata": {},
   "outputs": [
    {
     "name": "stdout",
     "output_type": "stream",
     "text": [
      "final_result  Distinction       Fail       Pass  Withdrawn\n",
      "imd_band                                                  \n",
      "0-10%            5.073996  27.665358  30.081546  37.179100\n",
      "10-20            5.432309  25.938567  33.191126  35.437998\n",
      "20-30%           9.695698  20.755509  36.873033  32.675761\n",
      "30-40%           8.900819  22.153151  38.005086  30.940944\n",
      "40-50%           8.998771  21.406634  37.592138  32.002457\n",
      "50-60%           9.507042  22.439181  39.276569  28.777209\n",
      "60-70%          10.292599  18.519793  41.617900  29.569707\n",
      "70-80%          10.871830  20.805835  40.639111  27.683223\n",
      "80-90%          11.875453  17.921796  42.179580  28.023172\n",
      "90-100%         14.116719  16.600946  43.414826  25.867508\n"
     ]
    },
    {
     "data": {
      "image/png": "[encoded data removed]",
      "text/plain": [
       "<Figure size 1080x576 with 1 Axes>"
      ]
     },
     "metadata": {},
     "output_type": "display_data"
    }
   ],
   "source": [
    "stacked_plot(student_info, 'imd_band', 'final_result', 'id_student', plot_size=(15, 8))"
   ]
  },
  {
   "cell_type": "code",
   "execution_count": 73,
   "metadata": {},
   "outputs": [
    {
     "data": {
      "image/png": "[encoded data removed]",
      "text/plain": [
       "<Figure size 360x360 with 1 Axes>"
      ]
     },
     "metadata": {},
     "output_type": "display_data"
    }
   ],
   "source": [
    "# We can see that Males are more in number as compared to females\n",
    "\n",
    "countplot(90, 0, 14, 10, 'gender', student_info, plot_size=(5, 5))"
   ]
  },
  {
   "cell_type": "code",
   "execution_count": 74,
   "metadata": {},
   "outputs": [
    {
     "name": "stdout",
     "output_type": "stream",
     "text": [
      "final_result  Distinction       Fail       Pass  Withdrawn\n",
      "gender                                                    \n",
      "F                9.471396  21.083028  38.965892  30.479685\n",
      "M                9.118881  22.092308  37.068531  31.720280\n"
     ]
    },
    {
     "data": {
      "image/png": "[encoded data removed]",
      "text/plain": [
       "<Figure size 720x576 with 1 Axes>"
      ]
     },
     "metadata": {},
     "output_type": "display_data"
    }
   ],
   "source": [
    "## We can see that there is no difference between the Withdrawal Rates and Failure Rates for both the gender.\n",
    "\n",
    "stacked_plot(student_info, 'gender', 'final_result', 'id_student', plot_size=(10, 8))"
   ]
  },
  {
   "cell_type": "code",
   "execution_count": 75,
   "metadata": {},
   "outputs": [
    {
     "name": "stdout",
     "output_type": "stream",
     "text": [
      "final_result  Distinction       Fail       Pass  Withdrawn\n",
      "disability                                                \n",
      "N                9.517823  21.543376  38.659146  30.279656\n",
      "Y                7.048040  22.503161  31.099874  39.348925\n"
     ]
    },
    {
     "data": {
      "image/png": "[encoded data removed]",
      "text/plain": [
       "<Figure size 1080x576 with 1 Axes>"
      ]
     },
     "metadata": {},
     "output_type": "display_data"
    }
   ],
   "source": [
    "# Following plot shows us the results by disability.\n",
    "# Withdrawn Rate is more in People who are disable.\n",
    "\n",
    "\n",
    "stacked_plot(student_info, 'disability', 'final_result', 'id_student', plot_size=(15, 8))"
   ]
  },
  {
   "cell_type": "markdown",
   "metadata": {},
   "source": [
    "###### Combining Student Info with the Student Registration Table"
   ]
  },
  {
   "cell_type": "code",
   "execution_count": 76,
   "metadata": {},
   "outputs": [],
   "source": [
    "student_registration_merge_courses = student_registration_merge_courses.drop('date_unregistration', axis = 1)"
   ]
  },
  {
   "cell_type": "code",
   "execution_count": 77,
   "metadata": {},
   "outputs": [],
   "source": [
    "student_info = student_info.merge(student_registration_merge_courses,\n",
    "                                 on = ['code_module', 'code_presentation', 'id_student'],\n",
    "                                 how = 'left')"
   ]
  },
  {
   "cell_type": "code",
   "execution_count": 78,
   "metadata": {},
   "outputs": [
    {
     "name": "stdout",
     "output_type": "stream",
     "text": [
      "final_result    Distinction       Fail       Pass  Withdrawn\n",
      "Starting_Month                                              \n",
      "February           8.896541  24.615631  34.769379  31.718450\n",
      "October            9.515046  19.786123  39.885601  30.813231\n"
     ]
    },
    {
     "data": {
      "image/png": "[encoded data removed]",
      "text/plain": [
       "<Figure size 1080x576 with 1 Axes>"
      ]
     },
     "metadata": {},
     "output_type": "display_data"
    }
   ],
   "source": [
    "## Following Plot shows us the Result by Session. Failure Rate is more in people who took the course in February.\n",
    "## Also withdrawn rate is slightly more in course starting in February. \n",
    "\n",
    "stacked_plot(student_info, 'Starting_Month', 'final_result', 'id_student', plot_size=(15, 8))"
   ]
  },
  {
   "cell_type": "code",
   "execution_count": 79,
   "metadata": {},
   "outputs": [
    {
     "data": {
      "image/png": "[encoded data removed]",
      "text/plain": [
       "<Figure size 504x432 with 1 Axes>"
      ]
     },
     "metadata": {},
     "output_type": "display_data"
    }
   ],
   "source": [
    "## There are less people who registered in February as compared to October. But still the failure and withdrawn rate\n",
    "## is more for february. May be the students don't like content or the course in February.\n",
    "\n",
    "countplot(90, 0, 12, 10, 'Starting_Month', student_info, plot_size=(7, 6))"
   ]
  },
  {
   "cell_type": "code",
   "execution_count": 80,
   "metadata": {},
   "outputs": [
    {
     "name": "stdout",
     "output_type": "stream",
     "text": [
      "final_result          Distinction       Fail       Pass  Withdrawn\n",
      "num_of_prev_attempts                                              \n",
      "0                       10.052426  20.164667  39.224517  30.558390\n",
      "1                        4.334647  30.585026  30.221279  34.859048\n",
      "2                        3.259259  34.962963  25.185185  36.592593\n",
      "3                        0.704225  40.140845  21.830986  37.323944\n",
      "4                        0.000000  30.769231  33.333333  35.897436\n",
      "5                        0.000000  46.153846  15.384615  38.461538\n",
      "6                       25.000000  25.000000   0.000000  50.000000\n"
     ]
    },
    {
     "data": {
      "image/png": "[encoded data removed]",
      "text/plain": [
       "<Figure size 1080x576 with 1 Axes>"
      ]
     },
     "metadata": {},
     "output_type": "display_data"
    }
   ],
   "source": [
    "## We can clearly see from the plot that we have the least failure and withdrawn rate in the students who did not\n",
    "## took the course before or number of previous attempts are zero. \n",
    "\n",
    "stacked_plot(student_info, 'num_of_prev_attempts', 'final_result', 'id_student', plot_size=(15, 8))\n"
   ]
  },
  {
   "cell_type": "code",
   "execution_count": 81,
   "metadata": {},
   "outputs": [
    {
     "data": {
      "image/png": "[encoded data removed]",
      "text/plain": [
       "<Figure size 720x576 with 1 Axes>"
      ]
     },
     "metadata": {},
     "output_type": "display_data"
    }
   ],
   "source": [
    "# Most of the data is for zero attempts which cause imbalance in the feature. We need to collect more data for creating\n",
    "# balance in the feature. So instead of using this feature, we will manipulate the feature to create two categories only.\n",
    "# 0 and 1 where 0 show no previous attempts and 1 shows previous attempts.\n",
    "\n",
    "countplot(90, 0, 12, 10, 'num_of_prev_attempts', student_info, plot_size=(10, 8))"
   ]
  },
  {
   "cell_type": "code",
   "execution_count": 82,
   "metadata": {},
   "outputs": [],
   "source": [
    "student_info['num_of_prev_attempts'] = [0 if attempts == 0 else 1 for attempts in student_info['num_of_prev_attempts']]"
   ]
  },
  {
   "cell_type": "code",
   "execution_count": 83,
   "metadata": {},
   "outputs": [
    {
     "data": {
      "image/png": "[encoded data removed]",
      "text/plain": [
       "<Figure size 504x432 with 1 Axes>"
      ]
     },
     "metadata": {},
     "output_type": "display_data"
    }
   ],
   "source": [
    "## Still there is imbalance in the feature but it's better than the initial.\n",
    "\n",
    "countplot(90, 0, 12, 10, 'num_of_prev_attempts', student_info, plot_size=(7, 6))"
   ]
  },
  {
   "cell_type": "code",
   "execution_count": 84,
   "metadata": {},
   "outputs": [
    {
     "name": "stdout",
     "output_type": "stream",
     "text": [
      "final_result          Distinction       Fail       Pass  Withdrawn\n",
      "num_of_prev_attempts                                              \n",
      "0                       10.052426  20.164667  39.224517  30.558390\n",
      "1                        4.002876  31.663471  29.074784  35.258869\n"
     ]
    },
    {
     "data": {
      "image/png": "[encoded data removed]",
      "text/plain": [
       "<Figure size 1080x576 with 1 Axes>"
      ]
     },
     "metadata": {},
     "output_type": "display_data"
    }
   ],
   "source": [
    "# We can clearly see that people with previous attempts have more failure and withdrawn rate.\n",
    "\n",
    "stacked_plot(student_info, 'num_of_prev_attempts', 'final_result', 'id_student', plot_size=(15, 8))"
   ]
  },
  {
   "cell_type": "code",
   "execution_count": 85,
   "metadata": {},
   "outputs": [
    {
     "name": "stdout",
     "output_type": "stream",
     "text": [
      "final_result  Distinction       Fail       Pass  Withdrawn\n",
      "code_module                                               \n",
      "AAA              5.882353  12.165775  65.106952  16.844920\n",
      "BBB              8.559869  22.341636  38.905045  30.193450\n",
      "CCC             11.231394  17.613893  26.612539  44.542174\n",
      "DDD              6.106505  22.512755  35.507015  35.873724\n",
      "EEE             12.133606  19.154738  44.103613  24.608044\n",
      "FFF              8.631796  22.043288  38.366400  30.958516\n",
      "GGG             15.627466  28.729282  44.119968  11.523283\n"
     ]
    },
    {
     "data": {
      "image/png": "[encoded data removed]",
      "text/plain": [
       "<Figure size 1080x576 with 1 Axes>"
      ]
     },
     "metadata": {},
     "output_type": "display_data"
    }
   ],
   "source": [
    "## We can see that \n",
    "\n",
    "stacked_plot(student_info, 'code_module', 'final_result', 'id_student', plot_size=(15, 8))"
   ]
  },
  {
   "cell_type": "code",
   "execution_count": 86,
   "metadata": {},
   "outputs": [],
   "source": [
    "student_info['Code_Category'] = ['Social_Science' if student_info['code_module'].iloc[i] in ['AAA', 'BBB', 'GGG']\n",
    "                                 else 'STEM' for i in range(len(student_info))]"
   ]
  },
  {
   "cell_type": "code",
   "execution_count": 87,
   "metadata": {},
   "outputs": [
    {
     "name": "stdout",
     "output_type": "stream",
     "text": [
      "final_result    Distinction       Fail       Pass  Withdrawn\n",
      "Code_Category                                               \n",
      "STEM               8.910382  20.867209  35.879824  34.342585\n",
      "Social_Science     9.981235  23.107855  41.837191  25.073720\n"
     ]
    },
    {
     "data": {
      "image/png": "[encoded data removed]",
      "text/plain": [
       "<Figure size 1080x576 with 1 Axes>"
      ]
     },
     "metadata": {},
     "output_type": "display_data"
    }
   ],
   "source": [
    "## From the following plot we can see that Failure Rate is higher in Social Science and Withdrawn rate is higher in\n",
    "## STEM Courses.\n",
    "\n",
    "stacked_plot(student_info, 'Code_Category', 'final_result', 'id_student', plot_size=(15, 8))"
   ]
  },
  {
   "cell_type": "markdown",
   "metadata": {},
   "source": [
    "# DATA PREPARATION\n",
    "#### Feature Selection\n",
    "#### Data Encoding\n",
    "#### Splitting Data"
   ]
  },
  {
   "cell_type": "code",
   "execution_count": 88,
   "metadata": {},
   "outputs": [],
   "source": [
    "# In this step, I will remove code_module, code_presentation, id_student and Year as those won't have impact on the result \n",
    "\n",
    "student_info = student_info.drop(['code_presentation', 'id_student', 'Year'], axis = 1)"
   ]
  },
  {
   "cell_type": "code",
   "execution_count": 89,
   "metadata": {},
   "outputs": [],
   "source": [
    "student_info['date_registration'] = student_info['date_registration'].astype(float)"
   ]
  },
  {
   "cell_type": "code",
   "execution_count": 90,
   "metadata": {},
   "outputs": [
    {
     "data": {
      "text/plain": [
       "count    32593.000000\n",
       "mean        69.492437\n",
       "std         49.044122\n",
       "min          0.000000\n",
       "25%         29.000000\n",
       "50%         57.000000\n",
       "75%        100.000000\n",
       "max        322.000000\n",
       "Name: date_registration, dtype: float64"
      ]
     },
     "execution_count": 90,
     "metadata": {},
     "output_type": "execute_result"
    }
   ],
   "source": [
    "student_info['date_registration'].describe()"
   ]
  },
  {
   "cell_type": "code",
   "execution_count": 91,
   "metadata": {
    "scrolled": true
   },
   "outputs": [
    {
     "data": {
      "text/html": [
       "<div>\n",
       "<style scoped>\n",
       "    .dataframe tbody tr th:only-of-type {\n",
       "        vertical-align: middle;\n",
       "    }\n",
       "\n",
       "    .dataframe tbody tr th {\n",
       "        vertical-align: top;\n",
       "    }\n",
       "\n",
       "    .dataframe thead th {\n",
       "        text-align: right;\n",
       "    }\n",
       "</style>\n",
       "<table border=\"1\" class=\"dataframe\">\n",
       "  <thead>\n",
       "    <tr style=\"text-align: right;\">\n",
       "      <th></th>\n",
       "      <th>code_module</th>\n",
       "      <th>gender</th>\n",
       "      <th>region</th>\n",
       "      <th>highest_education</th>\n",
       "      <th>imd_band</th>\n",
       "      <th>age_band</th>\n",
       "      <th>num_of_prev_attempts</th>\n",
       "      <th>studied_credits</th>\n",
       "      <th>disability</th>\n",
       "      <th>final_result</th>\n",
       "      <th>sum_click</th>\n",
       "      <th>After_Clicks</th>\n",
       "      <th>Before_Clicks</th>\n",
       "      <th>date_registration</th>\n",
       "      <th>module_presentation_length</th>\n",
       "      <th>Starting_Month</th>\n",
       "      <th>Code_Category</th>\n",
       "    </tr>\n",
       "  </thead>\n",
       "  <tbody>\n",
       "    <tr>\n",
       "      <th>0</th>\n",
       "      <td>AAA</td>\n",
       "      <td>M</td>\n",
       "      <td>East Anglian Region</td>\n",
       "      <td>1</td>\n",
       "      <td>90-100%</td>\n",
       "      <td>55&lt;=</td>\n",
       "      <td>0</td>\n",
       "      <td>240</td>\n",
       "      <td>N</td>\n",
       "      <td>Pass</td>\n",
       "      <td>934.0</td>\n",
       "      <td>836.0</td>\n",
       "      <td>98.0</td>\n",
       "      <td>159.0</td>\n",
       "      <td>268</td>\n",
       "      <td>October</td>\n",
       "      <td>Social_Science</td>\n",
       "    </tr>\n",
       "    <tr>\n",
       "      <th>1</th>\n",
       "      <td>AAA</td>\n",
       "      <td>F</td>\n",
       "      <td>Scotland</td>\n",
       "      <td>1</td>\n",
       "      <td>20-30%</td>\n",
       "      <td>35-55</td>\n",
       "      <td>0</td>\n",
       "      <td>60</td>\n",
       "      <td>N</td>\n",
       "      <td>Pass</td>\n",
       "      <td>1435.0</td>\n",
       "      <td>1220.0</td>\n",
       "      <td>215.0</td>\n",
       "      <td>53.0</td>\n",
       "      <td>268</td>\n",
       "      <td>October</td>\n",
       "      <td>Social_Science</td>\n",
       "    </tr>\n",
       "    <tr>\n",
       "      <th>2</th>\n",
       "      <td>AAA</td>\n",
       "      <td>F</td>\n",
       "      <td>North Western Region</td>\n",
       "      <td>0</td>\n",
       "      <td>30-40%</td>\n",
       "      <td>35-55</td>\n",
       "      <td>0</td>\n",
       "      <td>60</td>\n",
       "      <td>Y</td>\n",
       "      <td>Withdrawn</td>\n",
       "      <td>281.0</td>\n",
       "      <td>179.0</td>\n",
       "      <td>102.0</td>\n",
       "      <td>92.0</td>\n",
       "      <td>268</td>\n",
       "      <td>October</td>\n",
       "      <td>Social_Science</td>\n",
       "    </tr>\n",
       "    <tr>\n",
       "      <th>3</th>\n",
       "      <td>AAA</td>\n",
       "      <td>F</td>\n",
       "      <td>South East Region</td>\n",
       "      <td>0</td>\n",
       "      <td>50-60%</td>\n",
       "      <td>35-55</td>\n",
       "      <td>0</td>\n",
       "      <td>60</td>\n",
       "      <td>N</td>\n",
       "      <td>Pass</td>\n",
       "      <td>2158.0</td>\n",
       "      <td>1989.0</td>\n",
       "      <td>169.0</td>\n",
       "      <td>52.0</td>\n",
       "      <td>268</td>\n",
       "      <td>October</td>\n",
       "      <td>Social_Science</td>\n",
       "    </tr>\n",
       "    <tr>\n",
       "      <th>4</th>\n",
       "      <td>AAA</td>\n",
       "      <td>F</td>\n",
       "      <td>West Midlands Region</td>\n",
       "      <td>0</td>\n",
       "      <td>50-60%</td>\n",
       "      <td>0-35</td>\n",
       "      <td>0</td>\n",
       "      <td>60</td>\n",
       "      <td>N</td>\n",
       "      <td>Pass</td>\n",
       "      <td>1034.0</td>\n",
       "      <td>739.0</td>\n",
       "      <td>295.0</td>\n",
       "      <td>176.0</td>\n",
       "      <td>268</td>\n",
       "      <td>October</td>\n",
       "      <td>Social_Science</td>\n",
       "    </tr>\n",
       "  </tbody>\n",
       "</table>\n",
       "</div>"
      ],
      "text/plain": [
       "  code_module gender                region  highest_education imd_band  \\\n",
       "0         AAA      M   East Anglian Region                  1  90-100%   \n",
       "1         AAA      F              Scotland                  1   20-30%   \n",
       "2         AAA      F  North Western Region                  0   30-40%   \n",
       "3         AAA      F     South East Region                  0   50-60%   \n",
       "4         AAA      F  West Midlands Region                  0   50-60%   \n",
       "\n",
       "  age_band  num_of_prev_attempts  studied_credits disability final_result  \\\n",
       "0     55<=                     0              240          N         Pass   \n",
       "1    35-55                     0               60          N         Pass   \n",
       "2    35-55                     0               60          Y    Withdrawn   \n",
       "3    35-55                     0               60          N         Pass   \n",
       "4     0-35                     0               60          N         Pass   \n",
       "\n",
       "   sum_click  After_Clicks  Before_Clicks  date_registration  \\\n",
       "0      934.0         836.0           98.0              159.0   \n",
       "1     1435.0        1220.0          215.0               53.0   \n",
       "2      281.0         179.0          102.0               92.0   \n",
       "3     2158.0        1989.0          169.0               52.0   \n",
       "4     1034.0         739.0          295.0              176.0   \n",
       "\n",
       "   module_presentation_length Starting_Month   Code_Category  \n",
       "0                         268        October  Social_Science  \n",
       "1                         268        October  Social_Science  \n",
       "2                         268        October  Social_Science  \n",
       "3                         268        October  Social_Science  \n",
       "4                         268        October  Social_Science  "
      ]
     },
     "execution_count": 91,
     "metadata": {},
     "output_type": "execute_result"
    }
   ],
   "source": [
    "student_info.head()"
   ]
  },
  {
   "cell_type": "code",
   "execution_count": 92,
   "metadata": {},
   "outputs": [],
   "source": [
    "# There are two types of categorical variables in the data.\n",
    "# 1. NOMINAL :- Here there is no order in the categories\n",
    "# 2. ORDINAL :- When there is order in the category\n",
    "\n",
    "nominal_columns = ['gender', 'region', 'disability', 'Starting_Month', 'code_module', 'Code_Category']\n",
    "ordinal_columns = ['highest_education', 'imd_band', 'age_band']"
   ]
  },
  {
   "cell_type": "code",
   "execution_count": 93,
   "metadata": {},
   "outputs": [
    {
     "name": "stdout",
     "output_type": "stream",
     "text": [
      "['M' 'F']\n",
      "['East Anglian Region' 'Scotland' 'North Western Region'\n",
      " 'South East Region' 'West Midlands Region' 'Wales' 'North Region'\n",
      " 'South Region' 'Ireland' 'South West Region' 'East Midlands Region'\n",
      " 'Yorkshire Region' 'London Region']\n",
      "['N' 'Y']\n",
      "['October' 'February']\n",
      "['AAA' 'BBB' 'CCC' 'DDD' 'EEE' 'FFF' 'GGG']\n",
      "['Social_Science' 'STEM']\n"
     ]
    }
   ],
   "source": [
    "data = labelEncoder(student_info, ordinal_columns)\n",
    "data = categorical_encoding(student_info, nominal_columns)"
   ]
  },
  {
   "cell_type": "code",
   "execution_count": 94,
   "metadata": {},
   "outputs": [
    {
     "data": {
      "image/png": "[encoded data removed]",
      "text/plain": [
       "<Figure size 720x504 with 1 Axes>"
      ]
     },
     "metadata": {},
     "output_type": "display_data"
    }
   ],
   "source": [
    "countplot(90, 0, 10, 10, 'final_result', data, plot_size=(10, 7))"
   ]
  },
  {
   "cell_type": "markdown",
   "metadata": {},
   "source": [
    "### In the First case I am assuming Withdrawn Class as Fail and I am building a model whether student will pass or fail.\n",
    "### In the Second case I will create a labels for dropout vs non-dropout and build a model using that"
   ]
  },
  {
   "cell_type": "code",
   "execution_count": 95,
   "metadata": {},
   "outputs": [],
   "source": [
    "## To built a simplified binary class model, I am labeling Distinction and Pass as 0 and Withdrawn and Failure as 1\n",
    "\n",
    "data['Result']  = [0 if result in ['Pass', 'Distinction'] else 1 for result in data['final_result']]"
   ]
  },
  {
   "cell_type": "code",
   "execution_count": 96,
   "metadata": {},
   "outputs": [],
   "source": [
    "## In this steP, I am creating a dropout column where we consider withdrawn as the dropout and everything else as no dropout\n",
    "## '0' : Not Withdrawn, '1': 'Withdrawn'\n",
    "\n",
    "data['dropout'] = [0 if result in ['Pass', 'Distinction', 'Fail'] else 1 for result in data['final_result']]"
   ]
  },
  {
   "cell_type": "code",
   "execution_count": 97,
   "metadata": {},
   "outputs": [],
   "source": [
    "## Creating Feature and Target Dataframes\n",
    "\n",
    "feature = data.drop(['final_result', 'Result'], axis = 1)\n",
    "target  = data['Result']"
   ]
  },
  {
   "cell_type": "code",
   "execution_count": 98,
   "metadata": {},
   "outputs": [
    {
     "data": {
      "text/plain": [
       "1    17208\n",
       "0    15385\n",
       "Name: Result, dtype: int64"
      ]
     },
     "execution_count": 98,
     "metadata": {},
     "output_type": "execute_result"
    }
   ],
   "source": [
    "## We can see that both the classes are close in numbers. So I will treat this as a balanced case of binary classification.\n",
    "\n",
    "target.value_counts()"
   ]
  },
  {
   "cell_type": "code",
   "execution_count": 99,
   "metadata": {},
   "outputs": [],
   "source": [
    "### Here we will split our data into training and testing. As we have less data, I will keep 80% of the data for \n",
    "### training and only 20% for testing. I would like to have more data where I can create three separate datasets\n",
    "### for training, validation and testing. As our objective here is to find features which impact the decision whether\n",
    "### student will fail or not, I will use most for training only.\n",
    "\n",
    "X_train, X_test, Y_train, Y_test = train_test_split(feature, target, \n",
    "                                                    test_size = 0.2, \n",
    "                                                    random_state = 123, \n",
    "                                                    stratify=data.final_result)"
   ]
  },
  {
   "cell_type": "code",
   "execution_count": 100,
   "metadata": {},
   "outputs": [],
   "source": [
    "# In this step I will create a feature and target set for the dropout vs non-dropout case\n",
    "\n",
    "feature_dropout = data.drop(['final_result', 'dropout', 'Result'], axis = 1)\n",
    "target_dropout  = data['dropout']"
   ]
  },
  {
   "cell_type": "code",
   "execution_count": 101,
   "metadata": {},
   "outputs": [
    {
     "data": {
      "text/plain": [
       "0    22437\n",
       "1    10156\n",
       "Name: dropout, dtype: int64"
      ]
     },
     "execution_count": 101,
     "metadata": {},
     "output_type": "execute_result"
    }
   ],
   "source": [
    "target_dropout.value_counts()"
   ]
  },
  {
   "cell_type": "code",
   "execution_count": 102,
   "metadata": {},
   "outputs": [],
   "source": [
    "## Splitting Data into training and test sets\n",
    "\n",
    "X_train_dropout, X_test_dropout, Y_train_dropout, Y_test_dropout = train_test_split(feature_dropout, target_dropout, \n",
    "                                                                                    test_size = 0.2, \n",
    "                                                                                    random_state = 123, \n",
    "                                                                                    stratify=target_dropout)"
   ]
  },
  {
   "cell_type": "code",
   "execution_count": 103,
   "metadata": {},
   "outputs": [
    {
     "data": {
      "text/html": [
       "<div>\n",
       "<style scoped>\n",
       "    .dataframe tbody tr th:only-of-type {\n",
       "        vertical-align: middle;\n",
       "    }\n",
       "\n",
       "    .dataframe tbody tr th {\n",
       "        vertical-align: top;\n",
       "    }\n",
       "\n",
       "    .dataframe thead th {\n",
       "        text-align: right;\n",
       "    }\n",
       "</style>\n",
       "<table border=\"1\" class=\"dataframe\">\n",
       "  <thead>\n",
       "    <tr style=\"text-align: right;\">\n",
       "      <th></th>\n",
       "      <th>highest_education</th>\n",
       "      <th>imd_band</th>\n",
       "      <th>age_band</th>\n",
       "      <th>num_of_prev_attempts</th>\n",
       "      <th>studied_credits</th>\n",
       "      <th>final_result</th>\n",
       "      <th>sum_click</th>\n",
       "      <th>After_Clicks</th>\n",
       "      <th>Before_Clicks</th>\n",
       "      <th>date_registration</th>\n",
       "      <th>module_presentation_length</th>\n",
       "      <th>gender_F</th>\n",
       "      <th>gender_M</th>\n",
       "      <th>region_East Anglian Region</th>\n",
       "      <th>region_East Midlands Region</th>\n",
       "      <th>region_Ireland</th>\n",
       "      <th>region_London Region</th>\n",
       "      <th>region_North Region</th>\n",
       "      <th>region_North Western Region</th>\n",
       "      <th>region_Scotland</th>\n",
       "      <th>region_South East Region</th>\n",
       "      <th>region_South Region</th>\n",
       "      <th>region_South West Region</th>\n",
       "      <th>region_Wales</th>\n",
       "      <th>region_West Midlands Region</th>\n",
       "      <th>region_Yorkshire Region</th>\n",
       "      <th>disability_N</th>\n",
       "      <th>disability_Y</th>\n",
       "      <th>Starting_Month_February</th>\n",
       "      <th>Starting_Month_October</th>\n",
       "      <th>code_module_AAA</th>\n",
       "      <th>code_module_BBB</th>\n",
       "      <th>code_module_CCC</th>\n",
       "      <th>code_module_DDD</th>\n",
       "      <th>code_module_EEE</th>\n",
       "      <th>code_module_FFF</th>\n",
       "      <th>code_module_GGG</th>\n",
       "      <th>Code_Category_STEM</th>\n",
       "      <th>Code_Category_Social_Science</th>\n",
       "      <th>Result</th>\n",
       "      <th>dropout</th>\n",
       "    </tr>\n",
       "  </thead>\n",
       "  <tbody>\n",
       "    <tr>\n",
       "      <th>0</th>\n",
       "      <td>1</td>\n",
       "      <td>9</td>\n",
       "      <td>2</td>\n",
       "      <td>0</td>\n",
       "      <td>240</td>\n",
       "      <td>Pass</td>\n",
       "      <td>934.0</td>\n",
       "      <td>836.0</td>\n",
       "      <td>98.0</td>\n",
       "      <td>159.0</td>\n",
       "      <td>268</td>\n",
       "      <td>0</td>\n",
       "      <td>1</td>\n",
       "      <td>1</td>\n",
       "      <td>0</td>\n",
       "      <td>0</td>\n",
       "      <td>0</td>\n",
       "      <td>0</td>\n",
       "      <td>0</td>\n",
       "      <td>0</td>\n",
       "      <td>0</td>\n",
       "      <td>0</td>\n",
       "      <td>0</td>\n",
       "      <td>0</td>\n",
       "      <td>0</td>\n",
       "      <td>0</td>\n",
       "      <td>1</td>\n",
       "      <td>0</td>\n",
       "      <td>0</td>\n",
       "      <td>1</td>\n",
       "      <td>1</td>\n",
       "      <td>0</td>\n",
       "      <td>0</td>\n",
       "      <td>0</td>\n",
       "      <td>0</td>\n",
       "      <td>0</td>\n",
       "      <td>0</td>\n",
       "      <td>0</td>\n",
       "      <td>1</td>\n",
       "      <td>0</td>\n",
       "      <td>0</td>\n",
       "    </tr>\n",
       "    <tr>\n",
       "      <th>1</th>\n",
       "      <td>1</td>\n",
       "      <td>2</td>\n",
       "      <td>1</td>\n",
       "      <td>0</td>\n",
       "      <td>60</td>\n",
       "      <td>Pass</td>\n",
       "      <td>1435.0</td>\n",
       "      <td>1220.0</td>\n",
       "      <td>215.0</td>\n",
       "      <td>53.0</td>\n",
       "      <td>268</td>\n",
       "      <td>1</td>\n",
       "      <td>0</td>\n",
       "      <td>0</td>\n",
       "      <td>0</td>\n",
       "      <td>0</td>\n",
       "      <td>0</td>\n",
       "      <td>0</td>\n",
       "      <td>0</td>\n",
       "      <td>1</td>\n",
       "      <td>0</td>\n",
       "      <td>0</td>\n",
       "      <td>0</td>\n",
       "      <td>0</td>\n",
       "      <td>0</td>\n",
       "      <td>0</td>\n",
       "      <td>1</td>\n",
       "      <td>0</td>\n",
       "      <td>0</td>\n",
       "      <td>1</td>\n",
       "      <td>1</td>\n",
       "      <td>0</td>\n",
       "      <td>0</td>\n",
       "      <td>0</td>\n",
       "      <td>0</td>\n",
       "      <td>0</td>\n",
       "      <td>0</td>\n",
       "      <td>0</td>\n",
       "      <td>1</td>\n",
       "      <td>0</td>\n",
       "      <td>0</td>\n",
       "    </tr>\n",
       "    <tr>\n",
       "      <th>2</th>\n",
       "      <td>0</td>\n",
       "      <td>3</td>\n",
       "      <td>1</td>\n",
       "      <td>0</td>\n",
       "      <td>60</td>\n",
       "      <td>Withdrawn</td>\n",
       "      <td>281.0</td>\n",
       "      <td>179.0</td>\n",
       "      <td>102.0</td>\n",
       "      <td>92.0</td>\n",
       "      <td>268</td>\n",
       "      <td>1</td>\n",
       "      <td>0</td>\n",
       "      <td>0</td>\n",
       "      <td>0</td>\n",
       "      <td>0</td>\n",
       "      <td>0</td>\n",
       "      <td>0</td>\n",
       "      <td>1</td>\n",
       "      <td>0</td>\n",
       "      <td>0</td>\n",
       "      <td>0</td>\n",
       "      <td>0</td>\n",
       "      <td>0</td>\n",
       "      <td>0</td>\n",
       "      <td>0</td>\n",
       "      <td>0</td>\n",
       "      <td>1</td>\n",
       "      <td>0</td>\n",
       "      <td>1</td>\n",
       "      <td>1</td>\n",
       "      <td>0</td>\n",
       "      <td>0</td>\n",
       "      <td>0</td>\n",
       "      <td>0</td>\n",
       "      <td>0</td>\n",
       "      <td>0</td>\n",
       "      <td>0</td>\n",
       "      <td>1</td>\n",
       "      <td>1</td>\n",
       "      <td>1</td>\n",
       "    </tr>\n",
       "    <tr>\n",
       "      <th>3</th>\n",
       "      <td>0</td>\n",
       "      <td>5</td>\n",
       "      <td>1</td>\n",
       "      <td>0</td>\n",
       "      <td>60</td>\n",
       "      <td>Pass</td>\n",
       "      <td>2158.0</td>\n",
       "      <td>1989.0</td>\n",
       "      <td>169.0</td>\n",
       "      <td>52.0</td>\n",
       "      <td>268</td>\n",
       "      <td>1</td>\n",
       "      <td>0</td>\n",
       "      <td>0</td>\n",
       "      <td>0</td>\n",
       "      <td>0</td>\n",
       "      <td>0</td>\n",
       "      <td>0</td>\n",
       "      <td>0</td>\n",
       "      <td>0</td>\n",
       "      <td>1</td>\n",
       "      <td>0</td>\n",
       "      <td>0</td>\n",
       "      <td>0</td>\n",
       "      <td>0</td>\n",
       "      <td>0</td>\n",
       "      <td>1</td>\n",
       "      <td>0</td>\n",
       "      <td>0</td>\n",
       "      <td>1</td>\n",
       "      <td>1</td>\n",
       "      <td>0</td>\n",
       "      <td>0</td>\n",
       "      <td>0</td>\n",
       "      <td>0</td>\n",
       "      <td>0</td>\n",
       "      <td>0</td>\n",
       "      <td>0</td>\n",
       "      <td>1</td>\n",
       "      <td>0</td>\n",
       "      <td>0</td>\n",
       "    </tr>\n",
       "    <tr>\n",
       "      <th>4</th>\n",
       "      <td>0</td>\n",
       "      <td>5</td>\n",
       "      <td>0</td>\n",
       "      <td>0</td>\n",
       "      <td>60</td>\n",
       "      <td>Pass</td>\n",
       "      <td>1034.0</td>\n",
       "      <td>739.0</td>\n",
       "      <td>295.0</td>\n",
       "      <td>176.0</td>\n",
       "      <td>268</td>\n",
       "      <td>1</td>\n",
       "      <td>0</td>\n",
       "      <td>0</td>\n",
       "      <td>0</td>\n",
       "      <td>0</td>\n",
       "      <td>0</td>\n",
       "      <td>0</td>\n",
       "      <td>0</td>\n",
       "      <td>0</td>\n",
       "      <td>0</td>\n",
       "      <td>0</td>\n",
       "      <td>0</td>\n",
       "      <td>0</td>\n",
       "      <td>1</td>\n",
       "      <td>0</td>\n",
       "      <td>1</td>\n",
       "      <td>0</td>\n",
       "      <td>0</td>\n",
       "      <td>1</td>\n",
       "      <td>1</td>\n",
       "      <td>0</td>\n",
       "      <td>0</td>\n",
       "      <td>0</td>\n",
       "      <td>0</td>\n",
       "      <td>0</td>\n",
       "      <td>0</td>\n",
       "      <td>0</td>\n",
       "      <td>1</td>\n",
       "      <td>0</td>\n",
       "      <td>0</td>\n",
       "    </tr>\n",
       "  </tbody>\n",
       "</table>\n",
       "</div>"
      ],
      "text/plain": [
       "   highest_education  imd_band  age_band  num_of_prev_attempts  \\\n",
       "0                  1         9         2                     0   \n",
       "1                  1         2         1                     0   \n",
       "2                  0         3         1                     0   \n",
       "3                  0         5         1                     0   \n",
       "4                  0         5         0                     0   \n",
       "\n",
       "   studied_credits final_result  sum_click  After_Clicks  Before_Clicks  \\\n",
       "0              240         Pass      934.0         836.0           98.0   \n",
       "1               60         Pass     1435.0        1220.0          215.0   \n",
       "2               60    Withdrawn      281.0         179.0          102.0   \n",
       "3               60         Pass     2158.0        1989.0          169.0   \n",
       "4               60         Pass     1034.0         739.0          295.0   \n",
       "\n",
       "   date_registration  module_presentation_length  gender_F  gender_M  \\\n",
       "0              159.0                         268         0         1   \n",
       "1               53.0                         268         1         0   \n",
       "2               92.0                         268         1         0   \n",
       "3               52.0                         268         1         0   \n",
       "4              176.0                         268         1         0   \n",
       "\n",
       "   region_East Anglian Region  region_East Midlands Region  region_Ireland  \\\n",
       "0                           1                            0               0   \n",
       "1                           0                            0               0   \n",
       "2                           0                            0               0   \n",
       "3                           0                            0               0   \n",
       "4                           0                            0               0   \n",
       "\n",
       "   region_London Region  region_North Region  region_North Western Region  \\\n",
       "0                     0                    0                            0   \n",
       "1                     0                    0                            0   \n",
       "2                     0                    0                            1   \n",
       "3                     0                    0                            0   \n",
       "4                     0                    0                            0   \n",
       "\n",
       "   region_Scotland  region_South East Region  region_South Region  \\\n",
       "0                0                         0                    0   \n",
       "1                1                         0                    0   \n",
       "2                0                         0                    0   \n",
       "3                0                         1                    0   \n",
       "4                0                         0                    0   \n",
       "\n",
       "   region_South West Region  region_Wales  region_West Midlands Region  \\\n",
       "0                         0             0                            0   \n",
       "1                         0             0                            0   \n",
       "2                         0             0                            0   \n",
       "3                         0             0                            0   \n",
       "4                         0             0                            1   \n",
       "\n",
       "   region_Yorkshire Region  disability_N  disability_Y  \\\n",
       "0                        0             1             0   \n",
       "1                        0             1             0   \n",
       "2                        0             0             1   \n",
       "3                        0             1             0   \n",
       "4                        0             1             0   \n",
       "\n",
       "   Starting_Month_February  Starting_Month_October  code_module_AAA  \\\n",
       "0                        0                       1                1   \n",
       "1                        0                       1                1   \n",
       "2                        0                       1                1   \n",
       "3                        0                       1                1   \n",
       "4                        0                       1                1   \n",
       "\n",
       "   code_module_BBB  code_module_CCC  code_module_DDD  code_module_EEE  \\\n",
       "0                0                0                0                0   \n",
       "1                0                0                0                0   \n",
       "2                0                0                0                0   \n",
       "3                0                0                0                0   \n",
       "4                0                0                0                0   \n",
       "\n",
       "   code_module_FFF  code_module_GGG  Code_Category_STEM  \\\n",
       "0                0                0                   0   \n",
       "1                0                0                   0   \n",
       "2                0                0                   0   \n",
       "3                0                0                   0   \n",
       "4                0                0                   0   \n",
       "\n",
       "   Code_Category_Social_Science  Result  dropout  \n",
       "0                             1       0        0  \n",
       "1                             1       0        0  \n",
       "2                             1       1        1  \n",
       "3                             1       0        0  \n",
       "4                             1       0        0  "
      ]
     },
     "execution_count": 103,
     "metadata": {},
     "output_type": "execute_result"
    }
   ],
   "source": [
    "data.head()"
   ]
  },
  {
   "cell_type": "markdown",
   "metadata": {},
   "source": [
    "# BUILDING AND EVALUATING MODEL"
   ]
  },
  {
   "cell_type": "markdown",
   "metadata": {},
   "source": [
    "#### Building a model to predict whether student will pass or fail"
   ]
  },
  {
   "cell_type": "code",
   "execution_count": 104,
   "metadata": {},
   "outputs": [],
   "source": [
    "## Initializing the Random Forest Model\n",
    "\n",
    "random_forest_model = RandomForestClassifier(n_estimators=100, \n",
    "                                             random_state=123, \n",
    "                                             max_depth=25,\n",
    "                                             min_samples_split = 100,\n",
    "                                             n_jobs=4)"
   ]
  },
  {
   "cell_type": "code",
   "execution_count": 105,
   "metadata": {},
   "outputs": [
    {
     "data": {
      "text/plain": [
       "RandomForestClassifier(max_depth=25, min_samples_split=100, n_jobs=4,\n",
       "                       random_state=123)"
      ]
     },
     "execution_count": 105,
     "metadata": {},
     "output_type": "execute_result"
    }
   ],
   "source": [
    "## Fitting the model using Training Data\n",
    "\n",
    "random_forest_model.fit(X_train, Y_train)"
   ]
  },
  {
   "cell_type": "code",
   "execution_count": 106,
   "metadata": {},
   "outputs": [],
   "source": [
    "## Predicting on Test Data using fitted model\n",
    "\n",
    "predictions_random = random_forest_model.predict(X_test)"
   ]
  },
  {
   "cell_type": "code",
   "execution_count": 107,
   "metadata": {},
   "outputs": [
    {
     "name": "stdout",
     "output_type": "stream",
     "text": [
      "[[2918  159]\n",
      " [ 506 2936]]\n"
     ]
    }
   ],
   "source": [
    "print(confusion_matrix(Y_test, predictions_random))"
   ]
  },
  {
   "cell_type": "code",
   "execution_count": 108,
   "metadata": {},
   "outputs": [
    {
     "name": "stdout",
     "output_type": "stream",
     "text": [
      "Accuracy of the model is  0.8979904893388556\n"
     ]
    }
   ],
   "source": [
    "print(\"Accuracy of the model is \", accuracy_score(Y_test, predictions_random))"
   ]
  },
  {
   "cell_type": "code",
   "execution_count": 109,
   "metadata": {},
   "outputs": [
    {
     "name": "stdout",
     "output_type": "stream",
     "text": [
      "              precision    recall  f1-score   support\n",
      "\n",
      "           0       0.85      0.95      0.90      3077\n",
      "           1       0.95      0.85      0.90      3442\n",
      "\n",
      "    accuracy                           0.90      6519\n",
      "   macro avg       0.90      0.90      0.90      6519\n",
      "weighted avg       0.90      0.90      0.90      6519\n",
      "\n"
     ]
    }
   ],
   "source": [
    "print(classification_report(Y_test, predictions_random, digits=2))"
   ]
  },
  {
   "cell_type": "code",
   "execution_count": 110,
   "metadata": {},
   "outputs": [
    {
     "data": {
      "image/png": "[encoded data removed]",
      "text/plain": [
       "<Figure size 432x288 with 1 Axes>"
      ]
     },
     "metadata": {},
     "output_type": "display_data"
    }
   ],
   "source": [
    "predictions_rf = random_forest_model.predict_proba(X_test)\n",
    "preds = predictions_rf[:,1]\n",
    "y_test = np.array(Y_test)\n",
    "fpr, tpr, threshold = metrics.roc_curve(y_test, preds)\n",
    "roc_auc = metrics.auc(fpr, tpr)\n",
    "\n",
    "\n",
    "plt.title('Receiver Operating Characteristic')\n",
    "plt.plot(fpr, tpr, 'b', label = 'AUC = %0.2f' % roc_auc)\n",
    "plt.legend(loc = 'lower right')\n",
    "plt.plot([0, 1], [0, 1],'r--')\n",
    "plt.xlim([0, 1])\n",
    "plt.ylim([0, 1])\n",
    "plt.ylabel('True Positive Rate')\n",
    "plt.xlabel('False Positive Rate')\n",
    "plt.show()"
   ]
  },
  {
   "cell_type": "markdown",
   "metadata": {},
   "source": [
    "#### USING GRID SEARCH FOR HYPERPARAMETER OPTIMIZATION"
   ]
  },
  {
   "cell_type": "code",
   "execution_count": 111,
   "metadata": {},
   "outputs": [],
   "source": [
    "# n_estimators      = [100, 300, 500, 800, 1200]\n",
    "# max_depth         = [5, 8, 15, 25, 30]\n",
    "# min_samples_split = [50, 100, 150, 250, 300]\n",
    "# min_samples_leaf  = [1, 2, 5, 10] \n",
    "\n",
    "# hyperF  = {'n_estimators' : n_estimators, \n",
    "#            'max_depth' : max_depth,  \n",
    "#            'min_samples_split' : min_samples_split, \n",
    "#            'min_samples_leaf' : min_samples_leaf}\n",
    "\n",
    "# gridF   = GridSearchCV(random_forest_model, hyperF, cv = 3, verbose = 1)\n",
    "# bestF   = gridF.fit(X_train, Y_train)"
   ]
  },
  {
   "cell_type": "code",
   "execution_count": 112,
   "metadata": {},
   "outputs": [],
   "source": [
    "# bestF.best_params_\n",
    "\n",
    "# {'max_depth': 30,\n",
    "#  'min_samples_leaf': 1,\n",
    "#  'min_samples_split': 50,\n",
    "#  'n_estimators': 100}"
   ]
  },
  {
   "cell_type": "code",
   "execution_count": 113,
   "metadata": {},
   "outputs": [],
   "source": [
    "random_forest_model_best_fit = RandomForestClassifier(n_estimators=100, \n",
    "                                                      random_state=123, \n",
    "                                                      max_depth=30,\n",
    "                                                      min_samples_split = 50,\n",
    "                                                      n_jobs=4)"
   ]
  },
  {
   "cell_type": "code",
   "execution_count": 114,
   "metadata": {},
   "outputs": [
    {
     "data": {
      "text/plain": [
       "RandomForestClassifier(max_depth=30, min_samples_split=50, n_jobs=4,\n",
       "                       random_state=123)"
      ]
     },
     "execution_count": 114,
     "metadata": {},
     "output_type": "execute_result"
    }
   ],
   "source": [
    "random_forest_model_best_fit.fit(X_train, Y_train)"
   ]
  },
  {
   "cell_type": "code",
   "execution_count": 115,
   "metadata": {},
   "outputs": [],
   "source": [
    "predict_best_fit = random_forest_model_best_fit.predict(X_test)"
   ]
  },
  {
   "cell_type": "code",
   "execution_count": 116,
   "metadata": {},
   "outputs": [
    {
     "name": "stdout",
     "output_type": "stream",
     "text": [
      "              precision    recall  f1-score   support\n",
      "\n",
      "           0       0.95      0.85      0.90      3424\n",
      "           1       0.85      0.95      0.90      3095\n",
      "\n",
      "    accuracy                           0.90      6519\n",
      "   macro avg       0.90      0.90      0.90      6519\n",
      "weighted avg       0.90      0.90      0.90      6519\n",
      "\n"
     ]
    }
   ],
   "source": [
    "print(classification_report(predict_best_fit, Y_test))"
   ]
  },
  {
   "cell_type": "code",
   "execution_count": 117,
   "metadata": {
    "scrolled": true
   },
   "outputs": [
    {
     "data": {
      "text/html": [
       "<div>\n",
       "<style scoped>\n",
       "    .dataframe tbody tr th:only-of-type {\n",
       "        vertical-align: middle;\n",
       "    }\n",
       "\n",
       "    .dataframe tbody tr th {\n",
       "        vertical-align: top;\n",
       "    }\n",
       "\n",
       "    .dataframe thead th {\n",
       "        text-align: right;\n",
       "    }\n",
       "</style>\n",
       "<table border=\"1\" class=\"dataframe\">\n",
       "  <thead>\n",
       "    <tr style=\"text-align: right;\">\n",
       "      <th></th>\n",
       "      <th>Features</th>\n",
       "      <th>Coeff</th>\n",
       "    </tr>\n",
       "  </thead>\n",
       "  <tbody>\n",
       "    <tr>\n",
       "      <th>38</th>\n",
       "      <td>dropout</td>\n",
       "      <td>0.351216</td>\n",
       "    </tr>\n",
       "    <tr>\n",
       "      <th>6</th>\n",
       "      <td>After_Clicks</td>\n",
       "      <td>0.245894</td>\n",
       "    </tr>\n",
       "    <tr>\n",
       "      <th>5</th>\n",
       "      <td>sum_click</td>\n",
       "      <td>0.217119</td>\n",
       "    </tr>\n",
       "    <tr>\n",
       "      <th>7</th>\n",
       "      <td>Before_Clicks</td>\n",
       "      <td>0.058357</td>\n",
       "    </tr>\n",
       "    <tr>\n",
       "      <th>34</th>\n",
       "      <td>code_module_FFF</td>\n",
       "      <td>0.019404</td>\n",
       "    </tr>\n",
       "    <tr>\n",
       "      <th>37</th>\n",
       "      <td>Code_Category_Social_Science</td>\n",
       "      <td>0.012351</td>\n",
       "    </tr>\n",
       "    <tr>\n",
       "      <th>36</th>\n",
       "      <td>Code_Category_STEM</td>\n",
       "      <td>0.012193</td>\n",
       "    </tr>\n",
       "    <tr>\n",
       "      <th>4</th>\n",
       "      <td>studied_credits</td>\n",
       "      <td>0.011334</td>\n",
       "    </tr>\n",
       "    <tr>\n",
       "      <th>1</th>\n",
       "      <td>imd_band</td>\n",
       "      <td>0.010093</td>\n",
       "    </tr>\n",
       "    <tr>\n",
       "      <th>8</th>\n",
       "      <td>date_registration</td>\n",
       "      <td>0.007599</td>\n",
       "    </tr>\n",
       "    <tr>\n",
       "      <th>9</th>\n",
       "      <td>module_presentation_length</td>\n",
       "      <td>0.005644</td>\n",
       "    </tr>\n",
       "    <tr>\n",
       "      <th>3</th>\n",
       "      <td>num_of_prev_attempts</td>\n",
       "      <td>0.005627</td>\n",
       "    </tr>\n",
       "    <tr>\n",
       "      <th>35</th>\n",
       "      <td>code_module_GGG</td>\n",
       "      <td>0.004766</td>\n",
       "    </tr>\n",
       "    <tr>\n",
       "      <th>30</th>\n",
       "      <td>code_module_BBB</td>\n",
       "      <td>0.004016</td>\n",
       "    </tr>\n",
       "    <tr>\n",
       "      <th>0</th>\n",
       "      <td>highest_education</td>\n",
       "      <td>0.003736</td>\n",
       "    </tr>\n",
       "    <tr>\n",
       "      <th>32</th>\n",
       "      <td>code_module_DDD</td>\n",
       "      <td>0.002964</td>\n",
       "    </tr>\n",
       "    <tr>\n",
       "      <th>31</th>\n",
       "      <td>code_module_CCC</td>\n",
       "      <td>0.002583</td>\n",
       "    </tr>\n",
       "    <tr>\n",
       "      <th>10</th>\n",
       "      <td>gender_F</td>\n",
       "      <td>0.002174</td>\n",
       "    </tr>\n",
       "    <tr>\n",
       "      <th>11</th>\n",
       "      <td>gender_M</td>\n",
       "      <td>0.001782</td>\n",
       "    </tr>\n",
       "    <tr>\n",
       "      <th>2</th>\n",
       "      <td>age_band</td>\n",
       "      <td>0.001737</td>\n",
       "    </tr>\n",
       "    <tr>\n",
       "      <th>33</th>\n",
       "      <td>code_module_EEE</td>\n",
       "      <td>0.001710</td>\n",
       "    </tr>\n",
       "    <tr>\n",
       "      <th>28</th>\n",
       "      <td>Starting_Month_October</td>\n",
       "      <td>0.001693</td>\n",
       "    </tr>\n",
       "    <tr>\n",
       "      <th>27</th>\n",
       "      <td>Starting_Month_February</td>\n",
       "      <td>0.001600</td>\n",
       "    </tr>\n",
       "    <tr>\n",
       "      <th>29</th>\n",
       "      <td>code_module_AAA</td>\n",
       "      <td>0.001268</td>\n",
       "    </tr>\n",
       "    <tr>\n",
       "      <th>26</th>\n",
       "      <td>disability_Y</td>\n",
       "      <td>0.001220</td>\n",
       "    </tr>\n",
       "    <tr>\n",
       "      <th>25</th>\n",
       "      <td>disability_N</td>\n",
       "      <td>0.001177</td>\n",
       "    </tr>\n",
       "    <tr>\n",
       "      <th>22</th>\n",
       "      <td>region_Wales</td>\n",
       "      <td>0.001138</td>\n",
       "    </tr>\n",
       "    <tr>\n",
       "      <th>15</th>\n",
       "      <td>region_London Region</td>\n",
       "      <td>0.001068</td>\n",
       "    </tr>\n",
       "    <tr>\n",
       "      <th>17</th>\n",
       "      <td>region_North Western Region</td>\n",
       "      <td>0.001022</td>\n",
       "    </tr>\n",
       "    <tr>\n",
       "      <th>20</th>\n",
       "      <td>region_South Region</td>\n",
       "      <td>0.000953</td>\n",
       "    </tr>\n",
       "    <tr>\n",
       "      <th>18</th>\n",
       "      <td>region_Scotland</td>\n",
       "      <td>0.000928</td>\n",
       "    </tr>\n",
       "    <tr>\n",
       "      <th>14</th>\n",
       "      <td>region_Ireland</td>\n",
       "      <td>0.000859</td>\n",
       "    </tr>\n",
       "    <tr>\n",
       "      <th>19</th>\n",
       "      <td>region_South East Region</td>\n",
       "      <td>0.000843</td>\n",
       "    </tr>\n",
       "    <tr>\n",
       "      <th>13</th>\n",
       "      <td>region_East Midlands Region</td>\n",
       "      <td>0.000700</td>\n",
       "    </tr>\n",
       "    <tr>\n",
       "      <th>12</th>\n",
       "      <td>region_East Anglian Region</td>\n",
       "      <td>0.000686</td>\n",
       "    </tr>\n",
       "    <tr>\n",
       "      <th>21</th>\n",
       "      <td>region_South West Region</td>\n",
       "      <td>0.000683</td>\n",
       "    </tr>\n",
       "    <tr>\n",
       "      <th>23</th>\n",
       "      <td>region_West Midlands Region</td>\n",
       "      <td>0.000652</td>\n",
       "    </tr>\n",
       "    <tr>\n",
       "      <th>16</th>\n",
       "      <td>region_North Region</td>\n",
       "      <td>0.000626</td>\n",
       "    </tr>\n",
       "    <tr>\n",
       "      <th>24</th>\n",
       "      <td>region_Yorkshire Region</td>\n",
       "      <td>0.000586</td>\n",
       "    </tr>\n",
       "  </tbody>\n",
       "</table>\n",
       "</div>"
      ],
      "text/plain": [
       "                        Features     Coeff\n",
       "38                       dropout  0.351216\n",
       "6                   After_Clicks  0.245894\n",
       "5                      sum_click  0.217119\n",
       "7                  Before_Clicks  0.058357\n",
       "34               code_module_FFF  0.019404\n",
       "37  Code_Category_Social_Science  0.012351\n",
       "36            Code_Category_STEM  0.012193\n",
       "4                studied_credits  0.011334\n",
       "1                       imd_band  0.010093\n",
       "8              date_registration  0.007599\n",
       "9     module_presentation_length  0.005644\n",
       "3           num_of_prev_attempts  0.005627\n",
       "35               code_module_GGG  0.004766\n",
       "30               code_module_BBB  0.004016\n",
       "0              highest_education  0.003736\n",
       "32               code_module_DDD  0.002964\n",
       "31               code_module_CCC  0.002583\n",
       "10                      gender_F  0.002174\n",
       "11                      gender_M  0.001782\n",
       "2                       age_band  0.001737\n",
       "33               code_module_EEE  0.001710\n",
       "28        Starting_Month_October  0.001693\n",
       "27       Starting_Month_February  0.001600\n",
       "29               code_module_AAA  0.001268\n",
       "26                  disability_Y  0.001220\n",
       "25                  disability_N  0.001177\n",
       "22                  region_Wales  0.001138\n",
       "15          region_London Region  0.001068\n",
       "17   region_North Western Region  0.001022\n",
       "20           region_South Region  0.000953\n",
       "18               region_Scotland  0.000928\n",
       "14                region_Ireland  0.000859\n",
       "19      region_South East Region  0.000843\n",
       "13   region_East Midlands Region  0.000700\n",
       "12    region_East Anglian Region  0.000686\n",
       "21      region_South West Region  0.000683\n",
       "23   region_West Midlands Region  0.000652\n",
       "16           region_North Region  0.000626\n",
       "24       region_Yorkshire Region  0.000586"
      ]
     },
     "execution_count": 117,
     "metadata": {},
     "output_type": "execute_result"
    }
   ],
   "source": [
    "## We can see that region has close to None impact on the output of the model. So we will remove this feature.\n",
    "\n",
    "importance = pd.concat([pd.DataFrame(X_train.columns),\n",
    "                          pd.DataFrame(np.transpose(random_forest_model.feature_importances_))], axis = 1)\n",
    "importance.columns = ['Features', 'Coeff']\n",
    "importance = importance.sort_values('Coeff', ascending=False)\n",
    "importance"
   ]
  },
  {
   "cell_type": "markdown",
   "metadata": {},
   "source": [
    "#### Building a model to predict whether student will dropout or not"
   ]
  },
  {
   "cell_type": "code",
   "execution_count": 118,
   "metadata": {},
   "outputs": [],
   "source": [
    "## I am using class weight in this case because we have less samples for class = 1 which is dropout\n",
    "\n",
    "random_forest_model_drop = RandomForestClassifier(n_estimators=100, \n",
    "                                                  random_state=123, \n",
    "                                                  max_depth=25,\n",
    "                                                  min_samples_split = 100,\n",
    "                                                  class_weight = {0: 1, 1: 2},\n",
    "                                                  n_jobs=4)"
   ]
  },
  {
   "cell_type": "code",
   "execution_count": 119,
   "metadata": {},
   "outputs": [
    {
     "data": {
      "text/plain": [
       "RandomForestClassifier(class_weight={0: 1, 1: 2}, max_depth=25,\n",
       "                       min_samples_split=100, n_jobs=4, random_state=123)"
      ]
     },
     "execution_count": 119,
     "metadata": {},
     "output_type": "execute_result"
    }
   ],
   "source": [
    "random_forest_model_drop.fit(X_train_dropout, Y_train_dropout)"
   ]
  },
  {
   "cell_type": "code",
   "execution_count": 120,
   "metadata": {},
   "outputs": [],
   "source": [
    "predict_dropout = random_forest_model_drop.predict(X_test_dropout)"
   ]
  },
  {
   "cell_type": "code",
   "execution_count": 121,
   "metadata": {},
   "outputs": [
    {
     "name": "stdout",
     "output_type": "stream",
     "text": [
      "              precision    recall  f1-score   support\n",
      "\n",
      "           0       0.82      0.90      0.86      4102\n",
      "           1       0.80      0.67      0.73      2417\n",
      "\n",
      "    accuracy                           0.82      6519\n",
      "   macro avg       0.81      0.79      0.80      6519\n",
      "weighted avg       0.82      0.82      0.81      6519\n",
      "\n"
     ]
    }
   ],
   "source": [
    "print(classification_report(predict_dropout, Y_test_dropout))"
   ]
  },
  {
   "cell_type": "code",
   "execution_count": 122,
   "metadata": {},
   "outputs": [
    {
     "data": {
      "image/png": "[encoded data removed]",
      "text/plain": [
       "<Figure size 432x288 with 1 Axes>"
      ]
     },
     "metadata": {},
     "output_type": "display_data"
    }
   ],
   "source": [
    "predictions_rf = random_forest_model_drop.predict_proba(X_test_dropout)\n",
    "preds = predictions_rf[:,1]\n",
    "y_test = np.array(Y_test_dropout)\n",
    "fpr, tpr, threshold = metrics.roc_curve(y_test, preds)\n",
    "roc_auc = metrics.auc(fpr, tpr)\n",
    "\n",
    "\n",
    "plt.title('Receiver Operating Characteristic')\n",
    "plt.plot(fpr, tpr, 'b', label = 'AUC = %0.2f' % roc_auc)\n",
    "plt.legend(loc = 'lower right')\n",
    "plt.plot([0, 1], [0, 1],'r--')\n",
    "plt.xlim([0, 1])\n",
    "plt.ylim([0, 1])\n",
    "plt.ylabel('True Positive Rate')\n",
    "plt.xlabel('False Positive Rate')\n",
    "plt.show()"
   ]
  },
  {
   "cell_type": "code",
   "execution_count": 123,
   "metadata": {
    "scrolled": true
   },
   "outputs": [
    {
     "data": {
      "text/html": [
       "<div>\n",
       "<style scoped>\n",
       "    .dataframe tbody tr th:only-of-type {\n",
       "        vertical-align: middle;\n",
       "    }\n",
       "\n",
       "    .dataframe tbody tr th {\n",
       "        vertical-align: top;\n",
       "    }\n",
       "\n",
       "    .dataframe thead th {\n",
       "        text-align: right;\n",
       "    }\n",
       "</style>\n",
       "<table border=\"1\" class=\"dataframe\">\n",
       "  <thead>\n",
       "    <tr style=\"text-align: right;\">\n",
       "      <th></th>\n",
       "      <th>Features</th>\n",
       "      <th>Coeff</th>\n",
       "    </tr>\n",
       "  </thead>\n",
       "  <tbody>\n",
       "    <tr>\n",
       "      <th>6</th>\n",
       "      <td>After_Clicks</td>\n",
       "      <td>0.341960</td>\n",
       "    </tr>\n",
       "    <tr>\n",
       "      <th>5</th>\n",
       "      <td>sum_click</td>\n",
       "      <td>0.303304</td>\n",
       "    </tr>\n",
       "    <tr>\n",
       "      <th>7</th>\n",
       "      <td>Before_Clicks</td>\n",
       "      <td>0.124920</td>\n",
       "    </tr>\n",
       "    <tr>\n",
       "      <th>4</th>\n",
       "      <td>studied_credits</td>\n",
       "      <td>0.034788</td>\n",
       "    </tr>\n",
       "    <tr>\n",
       "      <th>8</th>\n",
       "      <td>date_registration</td>\n",
       "      <td>0.024408</td>\n",
       "    </tr>\n",
       "    <tr>\n",
       "      <th>36</th>\n",
       "      <td>Code_Category_STEM</td>\n",
       "      <td>0.021686</td>\n",
       "    </tr>\n",
       "    <tr>\n",
       "      <th>37</th>\n",
       "      <td>Code_Category_Social_Science</td>\n",
       "      <td>0.021497</td>\n",
       "    </tr>\n",
       "    <tr>\n",
       "      <th>35</th>\n",
       "      <td>code_module_GGG</td>\n",
       "      <td>0.017961</td>\n",
       "    </tr>\n",
       "    <tr>\n",
       "      <th>34</th>\n",
       "      <td>code_module_FFF</td>\n",
       "      <td>0.014039</td>\n",
       "    </tr>\n",
       "    <tr>\n",
       "      <th>9</th>\n",
       "      <td>module_presentation_length</td>\n",
       "      <td>0.011269</td>\n",
       "    </tr>\n",
       "    <tr>\n",
       "      <th>31</th>\n",
       "      <td>code_module_CCC</td>\n",
       "      <td>0.008950</td>\n",
       "    </tr>\n",
       "    <tr>\n",
       "      <th>1</th>\n",
       "      <td>imd_band</td>\n",
       "      <td>0.008747</td>\n",
       "    </tr>\n",
       "    <tr>\n",
       "      <th>30</th>\n",
       "      <td>code_module_BBB</td>\n",
       "      <td>0.006885</td>\n",
       "    </tr>\n",
       "    <tr>\n",
       "      <th>32</th>\n",
       "      <td>code_module_DDD</td>\n",
       "      <td>0.005626</td>\n",
       "    </tr>\n",
       "    <tr>\n",
       "      <th>2</th>\n",
       "      <td>age_band</td>\n",
       "      <td>0.004882</td>\n",
       "    </tr>\n",
       "    <tr>\n",
       "      <th>22</th>\n",
       "      <td>region_Wales</td>\n",
       "      <td>0.003875</td>\n",
       "    </tr>\n",
       "    <tr>\n",
       "      <th>18</th>\n",
       "      <td>region_Scotland</td>\n",
       "      <td>0.003572</td>\n",
       "    </tr>\n",
       "    <tr>\n",
       "      <th>33</th>\n",
       "      <td>code_module_EEE</td>\n",
       "      <td>0.003366</td>\n",
       "    </tr>\n",
       "    <tr>\n",
       "      <th>26</th>\n",
       "      <td>disability_Y</td>\n",
       "      <td>0.002889</td>\n",
       "    </tr>\n",
       "    <tr>\n",
       "      <th>25</th>\n",
       "      <td>disability_N</td>\n",
       "      <td>0.002833</td>\n",
       "    </tr>\n",
       "    <tr>\n",
       "      <th>3</th>\n",
       "      <td>num_of_prev_attempts</td>\n",
       "      <td>0.002758</td>\n",
       "    </tr>\n",
       "    <tr>\n",
       "      <th>11</th>\n",
       "      <td>gender_M</td>\n",
       "      <td>0.002743</td>\n",
       "    </tr>\n",
       "    <tr>\n",
       "      <th>10</th>\n",
       "      <td>gender_F</td>\n",
       "      <td>0.002488</td>\n",
       "    </tr>\n",
       "    <tr>\n",
       "      <th>27</th>\n",
       "      <td>Starting_Month_February</td>\n",
       "      <td>0.002201</td>\n",
       "    </tr>\n",
       "    <tr>\n",
       "      <th>0</th>\n",
       "      <td>highest_education</td>\n",
       "      <td>0.001978</td>\n",
       "    </tr>\n",
       "    <tr>\n",
       "      <th>28</th>\n",
       "      <td>Starting_Month_October</td>\n",
       "      <td>0.001941</td>\n",
       "    </tr>\n",
       "    <tr>\n",
       "      <th>14</th>\n",
       "      <td>region_Ireland</td>\n",
       "      <td>0.001887</td>\n",
       "    </tr>\n",
       "    <tr>\n",
       "      <th>13</th>\n",
       "      <td>region_East Midlands Region</td>\n",
       "      <td>0.001814</td>\n",
       "    </tr>\n",
       "    <tr>\n",
       "      <th>29</th>\n",
       "      <td>code_module_AAA</td>\n",
       "      <td>0.001807</td>\n",
       "    </tr>\n",
       "    <tr>\n",
       "      <th>23</th>\n",
       "      <td>region_West Midlands Region</td>\n",
       "      <td>0.001699</td>\n",
       "    </tr>\n",
       "    <tr>\n",
       "      <th>16</th>\n",
       "      <td>region_North Region</td>\n",
       "      <td>0.001594</td>\n",
       "    </tr>\n",
       "    <tr>\n",
       "      <th>17</th>\n",
       "      <td>region_North Western Region</td>\n",
       "      <td>0.001536</td>\n",
       "    </tr>\n",
       "    <tr>\n",
       "      <th>20</th>\n",
       "      <td>region_South Region</td>\n",
       "      <td>0.001435</td>\n",
       "    </tr>\n",
       "    <tr>\n",
       "      <th>15</th>\n",
       "      <td>region_London Region</td>\n",
       "      <td>0.001422</td>\n",
       "    </tr>\n",
       "    <tr>\n",
       "      <th>21</th>\n",
       "      <td>region_South West Region</td>\n",
       "      <td>0.001391</td>\n",
       "    </tr>\n",
       "    <tr>\n",
       "      <th>19</th>\n",
       "      <td>region_South East Region</td>\n",
       "      <td>0.001370</td>\n",
       "    </tr>\n",
       "    <tr>\n",
       "      <th>12</th>\n",
       "      <td>region_East Anglian Region</td>\n",
       "      <td>0.001258</td>\n",
       "    </tr>\n",
       "    <tr>\n",
       "      <th>24</th>\n",
       "      <td>region_Yorkshire Region</td>\n",
       "      <td>0.001221</td>\n",
       "    </tr>\n",
       "  </tbody>\n",
       "</table>\n",
       "</div>"
      ],
      "text/plain": [
       "                        Features     Coeff\n",
       "6                   After_Clicks  0.341960\n",
       "5                      sum_click  0.303304\n",
       "7                  Before_Clicks  0.124920\n",
       "4                studied_credits  0.034788\n",
       "8              date_registration  0.024408\n",
       "36            Code_Category_STEM  0.021686\n",
       "37  Code_Category_Social_Science  0.021497\n",
       "35               code_module_GGG  0.017961\n",
       "34               code_module_FFF  0.014039\n",
       "9     module_presentation_length  0.011269\n",
       "31               code_module_CCC  0.008950\n",
       "1                       imd_band  0.008747\n",
       "30               code_module_BBB  0.006885\n",
       "32               code_module_DDD  0.005626\n",
       "2                       age_band  0.004882\n",
       "22                  region_Wales  0.003875\n",
       "18               region_Scotland  0.003572\n",
       "33               code_module_EEE  0.003366\n",
       "26                  disability_Y  0.002889\n",
       "25                  disability_N  0.002833\n",
       "3           num_of_prev_attempts  0.002758\n",
       "11                      gender_M  0.002743\n",
       "10                      gender_F  0.002488\n",
       "27       Starting_Month_February  0.002201\n",
       "0              highest_education  0.001978\n",
       "28        Starting_Month_October  0.001941\n",
       "14                region_Ireland  0.001887\n",
       "13   region_East Midlands Region  0.001814\n",
       "29               code_module_AAA  0.001807\n",
       "23   region_West Midlands Region  0.001699\n",
       "16           region_North Region  0.001594\n",
       "17   region_North Western Region  0.001536\n",
       "20           region_South Region  0.001435\n",
       "15          region_London Region  0.001422\n",
       "21      region_South West Region  0.001391\n",
       "19      region_South East Region  0.001370\n",
       "12    region_East Anglian Region  0.001258\n",
       "24       region_Yorkshire Region  0.001221"
      ]
     },
     "execution_count": 123,
     "metadata": {},
     "output_type": "execute_result"
    }
   ],
   "source": [
    "importance = pd.concat([pd.DataFrame(X_train_dropout.columns),\n",
    "                          pd.DataFrame(np.transpose(random_forest_model_drop.feature_importances_))], axis = 1)\n",
    "importance.columns = ['Features', 'Coeff']\n",
    "importance = importance.sort_values('Coeff', ascending=False)\n",
    "importance"
   ]
  }
 ],
 "metadata": {
  "kernelspec": {
   "display_name": "Python 3",
   "language": "python",
   "name": "python3"
  },
  "language_info": {
   "codemirror_mode": {
    "name": "ipython",
    "version": 3
   },
   "file_extension": ".py",
   "mimetype": "text/x-python",
   "name": "python",
   "nbconvert_exporter": "python",
   "pygments_lexer": "ipython3",
   "version": "3.8.3"
  }
 },
 "nbformat": 4,
 "nbformat_minor": 4
}
